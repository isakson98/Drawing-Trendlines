{
  "nbformat": 4,
  "nbformat_minor": 0,
  "metadata": {
    "colab": {
      "name": "Senior_Project_Clean_and_Train.ipynb",
      "provenance": [],
      "collapsed_sections": []
    },
    "kernelspec": {
      "name": "python3",
      "display_name": "Python 3"
    },
    "language_info": {
      "name": "python"
    }
  },
  "cells": [
    {
      "cell_type": "markdown",
      "metadata": {
        "id": "mmhMnZAEu3Vf"
      },
      "source": [
        "# SENIOR PROJECT by Egor Isakson\n",
        "\n",
        "---\n",
        "\n",
        "\n",
        "\n",
        "## Intro\n",
        "\n",
        "For my senior project I analyzed equities. I have grown to be really passionate about financial markets and programming at the same time, so I did not want to miss an opportunity to display this passionate of both subjects in a formal matter.\n",
        "\n",
        "I have been getting inspiration for this kind of project ever since I got interested in trading. I have been told that automating trading is impossible or way too difficult, that successful trading is based on intuition only. I've heard the reverse, too. However, even if I wanted to from the start, I lacked a trading edge, meaning I could not pin point what exactly on the chart (or not) led to a succesful trade. On top of that, I simply did not have the skills to implement this technically. \n",
        "\n",
        "However, I have been gaining experience in both progressively over these past couple of years, and I have felt that I randomly came across certain random things, like pieces of code, or stack overflow posts, that kind of cleared things up for me. It's like they were some bread crumbs that I was following that finally led to this project.\n",
        "\n",
        "\n",
        "\n"
      ]
    },
    {
      "cell_type": "markdown",
      "metadata": {
        "id": "hWKGhx2ey59N"
      },
      "source": [
        "## About the project\n",
        "\n",
        "The project itself is a trading research environment. I built an infrastructure to make datasets that I could later clean, insert into a neural network and evaluate the results.\n",
        "\n",
        "There are several components to this trading environment\n",
        "- downloading data from a 3rd party vendor\n",
        "- storing and updating data\n",
        "- drawing variously defined trendlines\n",
        "- computing various features for each trendline\n",
        "- labeling the outcome of each data\n",
        "- compressing all the requested data into one piece (a single csv)\n"
      ]
    },
    {
      "cell_type": "markdown",
      "metadata": {
        "id": "fE4jg9Rdxn9p"
      },
      "source": [
        "# About this notebook's data\n",
        "\n",
        "For my first data set that came out of the trading research environment, I decided to explore bullish descending trendline breakouts on a daily chart. Having the most trading experience in this particular area (but absolutely with lots of room to grow), I thought this would be a fitting area of research.\n",
        "\n",
        "I understood that I would not have time to verify every single feature that I chose and would need to come with some kind of features in the first place. Thus, the selection and design of features in this dataset was purely a gut feel. It is whatever I thought was important to convey to the model that I would have considered important in my decision-making myself.\n",
        "\n",
        "\n",
        "## About features and labels\n",
        "\n",
        "### Features\n",
        "\n",
        "- \"pole_length_1\" -> pole length in number of candles elapsed\n",
        "- \"pole_flag_length_ratio_1\" -> pole's length in candles / flag's length in candles\n",
        "-\"flag_low_progress\" -> time of flag's low with respect to its stage in flag development\n",
        "- \"pivot_to_flag_height_ratio\" -> end of breakout range / entire flag's height\n",
        "- \"pole_height_in_candles\" -> pole height in terms of average candle's range\n",
        "- \"pole_flag_height_ratio\" -> pole price range / height price range\n",
        "\n",
        "I intentionally avoided including prices and percentages directly because I thought they are meaningless in their original form. Each feature is based on some kind of relation to another element in the setup. Each feature is built to be relative to something.\n",
        "\n",
        "Essentially, these are all features of a pole and a flag -> two elements of triangle breakout.\n",
        "\n",
        "### Labels\n",
        "\n",
        "-  \"label_class_2_num_of_lows_2_profit_r\"\n",
        "\n",
        "I am aiming to only get a general idea whether a trendline is going to be successful or not, without diving further how good is the trendline. \n"
      ]
    },
    {
      "cell_type": "markdown",
      "metadata": {
        "id": "SrPU7nxgrzlR"
      },
      "source": [
        "## Trendline data inspection"
      ]
    },
    {
      "cell_type": "code",
      "metadata": {
        "colab": {
          "base_uri": "https://localhost:8080/"
        },
        "id": "n3dm3JCqqTIj",
        "outputId": "56dedbc4-8285-4ef9-d739-be09fd5b884c"
      },
      "source": [
        "# adding data from my school's google drive account\n",
        "\n",
        "from google.colab import drive\n",
        "drive.mount('/content/gdrive')\n"
      ],
      "execution_count": 2,
      "outputs": [
        {
          "output_type": "stream",
          "name": "stdout",
          "text": [
            "Drive already mounted at /content/gdrive; to attempt to forcibly remount, call drive.mount(\"/content/gdrive\", force_remount=True).\n"
          ]
        }
      ]
    },
    {
      "cell_type": "code",
      "metadata": {
        "colab": {
          "base_uri": "https://localhost:8080/"
        },
        "id": "KTm2z94FrIlg",
        "outputId": "cef45934-b495-418a-d86a-29db56a33569"
      },
      "source": [
        "!ls \"/content/gdrive/My Drive/4. Senior 2021/Senior Project (trading)\""
      ],
      "execution_count": 3,
      "outputs": [
        {
          "output_type": "stream",
          "name": "stdout",
          "text": [
            " all_current_tickers.csv\t\t 'Metadata of data.gdoc'\n",
            " latest_big_bull_triangles_big_data.csv   old_big_bull_triangles_big_data.csv\n"
          ]
        }
      ]
    },
    {
      "cell_type": "code",
      "metadata": {
        "id": "vbgjybmUtN8B"
      },
      "source": [
        "root_path = \"/content/gdrive/My Drive/4. Senior 2021/Senior Project (trading)/latest_big_bull_triangles_big_data.csv\""
      ],
      "execution_count": 4,
      "outputs": []
    },
    {
      "cell_type": "code",
      "metadata": {
        "id": "CMaQTpKTsvnN"
      },
      "source": [
        "# all dependencies\n",
        "\n",
        "import pandas as pd\n",
        "import seaborn as sns\n",
        "import matplotlib.pyplot as plt\n",
        "from sklearn import preprocessing\n",
        "from sklearn.model_selection  import train_test_split\n",
        "import numpy as np"
      ],
      "execution_count": 5,
      "outputs": []
    },
    {
      "cell_type": "code",
      "metadata": {
        "colab": {
          "base_uri": "https://localhost:8080/",
          "height": 223
        },
        "id": "PvFVvuhes0_J",
        "outputId": "d0d2a684-ae52-4e7f-c64c-facb45c086af"
      },
      "source": [
        "\n",
        "original_df = pd.read_csv(root_path)\n",
        "original_df.head()\n"
      ],
      "execution_count": 6,
      "outputs": [
        {
          "output_type": "execute_result",
          "data": {
            "text/html": [
              "<div>\n",
              "<style scoped>\n",
              "    .dataframe tbody tr th:only-of-type {\n",
              "        vertical-align: middle;\n",
              "    }\n",
              "\n",
              "    .dataframe tbody tr th {\n",
              "        vertical-align: top;\n",
              "    }\n",
              "\n",
              "    .dataframe thead th {\n",
              "        text-align: right;\n",
              "    }\n",
              "</style>\n",
              "<table border=\"1\" class=\"dataframe\">\n",
              "  <thead>\n",
              "    <tr style=\"text-align: right;\">\n",
              "      <th></th>\n",
              "      <th>t_start</th>\n",
              "      <th>t_end</th>\n",
              "      <th>price_start</th>\n",
              "      <th>price_end</th>\n",
              "      <th>slope</th>\n",
              "      <th>intercept</th>\n",
              "      <th>rvalue</th>\n",
              "      <th>pvalue</th>\n",
              "      <th>base_length</th>\n",
              "      <th>preciseness</th>\n",
              "      <th>pole_length_1</th>\n",
              "      <th>pole_flag_length_ratio_1</th>\n",
              "      <th>flag_low_timestamp</th>\n",
              "      <th>flag_low_price</th>\n",
              "      <th>flag_low_progress</th>\n",
              "      <th>pivot_to_flag_height_ratio</th>\n",
              "      <th>pole_start_timestamp</th>\n",
              "      <th>pole_start_price</th>\n",
              "      <th>pole_height_in_candles</th>\n",
              "      <th>pole_flag_height_ratio</th>\n",
              "      <th>stop_loss_2_num_of_lows</th>\n",
              "      <th>entry_pos</th>\n",
              "      <th>profit_price_2_profitable_r_2_num_of_lows</th>\n",
              "      <th>label_class_2_num_of_lows_2_profit_r</th>\n",
              "      <th>ticker</th>\n",
              "      <th>avg_v_20</th>\n",
              "    </tr>\n",
              "  </thead>\n",
              "  <tbody>\n",
              "    <tr>\n",
              "      <th>0</th>\n",
              "      <td>1099976400000</td>\n",
              "      <td>1101272400000</td>\n",
              "      <td>18.5185</td>\n",
              "      <td>16.09</td>\n",
              "      <td>-0.232438</td>\n",
              "      <td>83.729744</td>\n",
              "      <td>-0.982277</td>\n",
              "      <td>0.000080</td>\n",
              "      <td>11</td>\n",
              "      <td>2</td>\n",
              "      <td>21.0</td>\n",
              "      <td>1.909091</td>\n",
              "      <td>1100235600000</td>\n",
              "      <td>15.6585</td>\n",
              "      <td>0.333333</td>\n",
              "      <td>0.849126</td>\n",
              "      <td>1097553600000</td>\n",
              "      <td>15.4655</td>\n",
              "      <td>6.528945</td>\n",
              "      <td>1.067483</td>\n",
              "      <td>16.2520</td>\n",
              "      <td>16.5737</td>\n",
              "      <td>17.2171</td>\n",
              "      <td>True</td>\n",
              "      <td>A</td>\n",
              "      <td>3.669455e+06</td>\n",
              "    </tr>\n",
              "    <tr>\n",
              "      <th>1</th>\n",
              "      <td>1099976400000</td>\n",
              "      <td>1101877200000</td>\n",
              "      <td>18.5185</td>\n",
              "      <td>16.33</td>\n",
              "      <td>-0.166848</td>\n",
              "      <td>65.547648</td>\n",
              "      <td>-0.999971</td>\n",
              "      <td>0.004812</td>\n",
              "      <td>15</td>\n",
              "      <td>2</td>\n",
              "      <td>21.0</td>\n",
              "      <td>1.400000</td>\n",
              "      <td>1100235600000</td>\n",
              "      <td>15.6585</td>\n",
              "      <td>0.250000</td>\n",
              "      <td>0.765210</td>\n",
              "      <td>1097553600000</td>\n",
              "      <td>15.4655</td>\n",
              "      <td>6.528945</td>\n",
              "      <td>1.067483</td>\n",
              "      <td>16.2949</td>\n",
              "      <td>16.9384</td>\n",
              "      <td>18.2254</td>\n",
              "      <td>False</td>\n",
              "      <td>A</td>\n",
              "      <td>3.669455e+06</td>\n",
              "    </tr>\n",
              "    <tr>\n",
              "      <th>2</th>\n",
              "      <td>1099976400000</td>\n",
              "      <td>1101877200000</td>\n",
              "      <td>18.5185</td>\n",
              "      <td>16.25</td>\n",
              "      <td>-0.156286</td>\n",
              "      <td>62.352670</td>\n",
              "      <td>-0.988153</td>\n",
              "      <td>0.000029</td>\n",
              "      <td>15</td>\n",
              "      <td>3</td>\n",
              "      <td>21.0</td>\n",
              "      <td>1.400000</td>\n",
              "      <td>1100235600000</td>\n",
              "      <td>15.6585</td>\n",
              "      <td>0.250000</td>\n",
              "      <td>0.793182</td>\n",
              "      <td>1097553600000</td>\n",
              "      <td>15.4655</td>\n",
              "      <td>6.528945</td>\n",
              "      <td>1.067483</td>\n",
              "      <td>16.2949</td>\n",
              "      <td>16.9384</td>\n",
              "      <td>18.2254</td>\n",
              "      <td>False</td>\n",
              "      <td>A</td>\n",
              "      <td>3.669455e+06</td>\n",
              "    </tr>\n",
              "    <tr>\n",
              "      <th>3</th>\n",
              "      <td>1099976400000</td>\n",
              "      <td>1100667600000</td>\n",
              "      <td>18.5185</td>\n",
              "      <td>15.81</td>\n",
              "      <td>-0.491097</td>\n",
              "      <td>156.262010</td>\n",
              "      <td>-0.894448</td>\n",
              "      <td>0.016124</td>\n",
              "      <td>6</td>\n",
              "      <td>3</td>\n",
              "      <td>21.0</td>\n",
              "      <td>3.500000</td>\n",
              "      <td>1100235600000</td>\n",
              "      <td>15.6585</td>\n",
              "      <td>0.571429</td>\n",
              "      <td>0.947028</td>\n",
              "      <td>1097553600000</td>\n",
              "      <td>15.4655</td>\n",
              "      <td>6.528945</td>\n",
              "      <td>1.067483</td>\n",
              "      <td>16.1290</td>\n",
              "      <td>16.7096</td>\n",
              "      <td>17.8708</td>\n",
              "      <td>False</td>\n",
              "      <td>A</td>\n",
              "      <td>3.669455e+06</td>\n",
              "    </tr>\n",
              "    <tr>\n",
              "      <th>4</th>\n",
              "      <td>1099976400000</td>\n",
              "      <td>1101099600000</td>\n",
              "      <td>18.5185</td>\n",
              "      <td>15.97</td>\n",
              "      <td>-0.259192</td>\n",
              "      <td>90.878500</td>\n",
              "      <td>-0.788452</td>\n",
              "      <td>0.011577</td>\n",
              "      <td>9</td>\n",
              "      <td>5</td>\n",
              "      <td>21.0</td>\n",
              "      <td>2.333333</td>\n",
              "      <td>1100235600000</td>\n",
              "      <td>15.6585</td>\n",
              "      <td>0.400000</td>\n",
              "      <td>0.891084</td>\n",
              "      <td>1097553600000</td>\n",
              "      <td>15.4655</td>\n",
              "      <td>6.528945</td>\n",
              "      <td>1.067483</td>\n",
              "      <td>16.2949</td>\n",
              "      <td>16.5022</td>\n",
              "      <td>16.9168</td>\n",
              "      <td>False</td>\n",
              "      <td>A</td>\n",
              "      <td>3.669455e+06</td>\n",
              "    </tr>\n",
              "  </tbody>\n",
              "</table>\n",
              "</div>"
            ],
            "text/plain": [
              "         t_start          t_end  ...  ticker      avg_v_20\n",
              "0  1099976400000  1101272400000  ...       A  3.669455e+06\n",
              "1  1099976400000  1101877200000  ...       A  3.669455e+06\n",
              "2  1099976400000  1101877200000  ...       A  3.669455e+06\n",
              "3  1099976400000  1100667600000  ...       A  3.669455e+06\n",
              "4  1099976400000  1101099600000  ...       A  3.669455e+06\n",
              "\n",
              "[5 rows x 26 columns]"
            ]
          },
          "metadata": {},
          "execution_count": 6
        }
      ]
    },
    {
      "cell_type": "markdown",
      "metadata": {
        "id": "VbqNCw0EthX6"
      },
      "source": [
        "Not all of this dataset's columns are features, or intended to be used as features at the moment. Some of them like: slope, intercept,\tflag_low_price were either a by-product that I thought would be interesting to expore later or derived in the process of making other features."
      ]
    },
    {
      "cell_type": "code",
      "metadata": {
        "colab": {
          "base_uri": "https://localhost:8080/"
        },
        "id": "9rMfVFxgt8go",
        "outputId": "179780c7-2f33-4bb0-c292-e14740680de8"
      },
      "source": [
        "original_df.shape"
      ],
      "execution_count": 7,
      "outputs": [
        {
          "output_type": "execute_result",
          "data": {
            "text/plain": [
              "(1265328, 26)"
            ]
          },
          "metadata": {},
          "execution_count": 7
        }
      ]
    },
    {
      "cell_type": "markdown",
      "metadata": {
        "id": "YA5VlxFTuOAf"
      },
      "source": [
        "As I estimated before assembling all the data together, the total number of trendlines drawn exceeds 1 million. When it came to deciding criteria for starting points of trendlines, these were the following:\n",
        "- higher highs of higher highs (recursive process of first finding higher highs and then selecting higher highs among those left from the first call)\n",
        "- average volume of last 20 candles MUST be above 50k (I have included average volume in this dataset as well, in case this must be filtered further)"
      ]
    },
    {
      "cell_type": "markdown",
      "metadata": {
        "id": "t-SwTVBb2Jq7"
      },
      "source": [
        "# Visualization insights"
      ]
    },
    {
      "cell_type": "code",
      "metadata": {
        "colab": {
          "base_uri": "https://localhost:8080/",
          "height": 282
        },
        "id": "oCYolUAk2Co9",
        "outputId": "75ba0129-9bf9-457c-f00b-09222b2cefdd"
      },
      "source": [
        "\n",
        "original_df[\"label_class_2_num_of_lows_2_profit_r\"].astype(float).hist()"
      ],
      "execution_count": 8,
      "outputs": [
        {
          "output_type": "execute_result",
          "data": {
            "text/plain": [
              "<matplotlib.axes._subplots.AxesSubplot at 0x7fb5591ddcd0>"
            ]
          },
          "metadata": {},
          "execution_count": 8
        },
        {
          "output_type": "display_data",
          "data": {
            "image/png": "[encoded data removed]",
            "text/plain": [
              "<Figure size 432x288 with 1 Axes>"
            ]
          },
          "metadata": {
            "needs_background": "light"
          }
        }
      ]
    },
    {
      "cell_type": "markdown",
      "metadata": {
        "id": "DoUd7TpI22Tl"
      },
      "source": [
        "In this dataset, a label is either 1 or 0. 1 if a setup is successful; 0 if not. Interestingly, there are more successful trades than I thought there would be.\n"
      ]
    },
    {
      "cell_type": "code",
      "metadata": {
        "colab": {
          "base_uri": "https://localhost:8080/"
        },
        "id": "jeH6qNws428A",
        "outputId": "0d7e7145-786c-48e4-bddd-fbc10f2d82ae"
      },
      "source": [
        "original_df[\"label_class_2_num_of_lows_2_profit_r\"].value_counts()"
      ],
      "execution_count": 9,
      "outputs": [
        {
          "output_type": "execute_result",
          "data": {
            "text/plain": [
              "False    809088\n",
              "True     448429\n",
              "Name: label_class_2_num_of_lows_2_profit_r, dtype: int64"
            ]
          },
          "metadata": {},
          "execution_count": 9
        }
      ]
    },
    {
      "cell_type": "code",
      "metadata": {
        "colab": {
          "base_uri": "https://localhost:8080/"
        },
        "id": "6y3MZlJM49Y0",
        "outputId": "cee970af-e7bb-47f0-df76-9c6a93d48594"
      },
      "source": [
        "print(\"Portion of successful setups\")\n",
        "round(448429 / (809088 + 448429), 2)"
      ],
      "execution_count": 10,
      "outputs": [
        {
          "output_type": "stream",
          "name": "stdout",
          "text": [
            "Portion of successful setups\n"
          ]
        },
        {
          "output_type": "execute_result",
          "data": {
            "text/plain": [
              "0.36"
            ]
          },
          "metadata": {},
          "execution_count": 10
        }
      ]
    },
    {
      "cell_type": "markdown",
      "metadata": {
        "id": "vjfSHxjl5G_C"
      },
      "source": [
        "There's a 36% chance that a trendline will be successful. Given that the risk/reward is 1:2, here is our expected value:"
      ]
    },
    {
      "cell_type": "code",
      "metadata": {
        "colab": {
          "base_uri": "https://localhost:8080/"
        },
        "id": "3ijPNbCw5un8",
        "outputId": "251c5f93-4981-4166-f416-230c3766bc46"
      },
      "source": [
        "p_right = 0.36\n",
        "r_right = 2\n",
        "\n",
        "p_wrong = 0.64\n",
        "r_wrong = 1\n",
        "\n",
        "round(p_right * r_right - p_wrong * r_wrong, 2)"
      ],
      "execution_count": 11,
      "outputs": [
        {
          "output_type": "execute_result",
          "data": {
            "text/plain": [
              "0.08"
            ]
          },
          "metadata": {},
          "execution_count": 11
        }
      ]
    },
    {
      "cell_type": "markdown",
      "metadata": {
        "id": "01x1sAjV6I3C"
      },
      "source": [
        "Thus, it looks like we can expect to be profitable by simply relying on our linear regression's trendline drawing skills, without even training a neural network:)"
      ]
    },
    {
      "cell_type": "markdown",
      "metadata": {
        "id": "8p8zsudhE_av"
      },
      "source": [
        "Now, let's examine if there's some relationship between average volume and the outcome"
      ]
    },
    {
      "cell_type": "code",
      "metadata": {
        "colab": {
          "base_uri": "https://localhost:8080/",
          "height": 308
        },
        "id": "K05UeKzy7Lx7",
        "outputId": "19564c33-77e2-45c2-8254-7e507ac7877a"
      },
      "source": [
        "original_df.plot.scatter(\"label_class_2_num_of_lows_2_profit_r\", \"avg_v_20\" )"
      ],
      "execution_count": 12,
      "outputs": [
        {
          "output_type": "execute_result",
          "data": {
            "text/plain": [
              "<matplotlib.axes._subplots.AxesSubplot at 0x7fb5590d4a50>"
            ]
          },
          "metadata": {},
          "execution_count": 12
        },
        {
          "output_type": "display_data",
          "data": {
            "image/png": "[encoded data removed]",
            "text/plain": [
              "<Figure size 432x288 with 1 Axes>"
            ]
          },
          "metadata": {
            "needs_background": "light"
          }
        }
      ]
    },
    {
      "cell_type": "markdown",
      "metadata": {
        "id": "Am-Rluu4GniO"
      },
      "source": [
        "Looks like there are more trades with volume greater than 1 that have failed, but let's examine this further, if the charts is overlaying too many cases"
      ]
    },
    {
      "cell_type": "code",
      "metadata": {
        "colab": {
          "base_uri": "https://localhost:8080/"
        },
        "id": "7fRprHAJHB68",
        "outputId": "a59289bd-7a9a-48eb-c299-d89899dd285a"
      },
      "source": [
        "print(\"Median average volume of successful setups:\")\n",
        "original_df[original_df[\"label_class_2_num_of_lows_2_profit_r\"] == True][\"avg_v_20\"].median()"
      ],
      "execution_count": 13,
      "outputs": [
        {
          "output_type": "stream",
          "name": "stdout",
          "text": [
            "Median average volume of successful setups:\n"
          ]
        },
        {
          "output_type": "execute_result",
          "data": {
            "text/plain": [
              "461676.95"
            ]
          },
          "metadata": {},
          "execution_count": 13
        }
      ]
    },
    {
      "cell_type": "code",
      "metadata": {
        "colab": {
          "base_uri": "https://localhost:8080/"
        },
        "id": "Us9IB636Hoef",
        "outputId": "982d4002-cff1-4a49-98a7-055cd571df5b"
      },
      "source": [
        "print(\"Median average volume of failed setups:\")\n",
        "original_df[original_df[\"label_class_2_num_of_lows_2_profit_r\"] == False][\"avg_v_20\"].median()"
      ],
      "execution_count": 14,
      "outputs": [
        {
          "output_type": "stream",
          "name": "stdout",
          "text": [
            "Median average volume of failed setups:\n"
          ]
        },
        {
          "output_type": "execute_result",
          "data": {
            "text/plain": [
              "443694.85"
            ]
          },
          "metadata": {},
          "execution_count": 14
        }
      ]
    },
    {
      "cell_type": "markdown",
      "metadata": {
        "id": "lvGTFObIJMj3"
      },
      "source": [
        "Looking at median average volume of failed and sucecssful setups, we actually see that there was more volume done on successful setups."
      ]
    },
    {
      "cell_type": "code",
      "metadata": {
        "colab": {
          "base_uri": "https://localhost:8080/"
        },
        "id": "RuvqogAfIs-I",
        "outputId": "fdafc37c-932f-457e-aa4a-6085924e25e3"
      },
      "source": [
        "len(original_df[(original_df[\"label_class_2_num_of_lows_2_profit_r\"] == True) & (original_df[\"avg_v_20\"] > 1000000)])"
      ],
      "execution_count": 15,
      "outputs": [
        {
          "output_type": "execute_result",
          "data": {
            "text/plain": [
              "140769"
            ]
          },
          "metadata": {},
          "execution_count": 15
        }
      ]
    },
    {
      "cell_type": "code",
      "metadata": {
        "colab": {
          "base_uri": "https://localhost:8080/"
        },
        "id": "Nu06qQh3JBcW",
        "outputId": "ba9ffaf6-0d82-403b-8f0c-287d4c314eb5"
      },
      "source": [
        "len(original_df[(original_df[\"label_class_2_num_of_lows_2_profit_r\"] == False) & (original_df[\"avg_v_20\"] > 1000000)])"
      ],
      "execution_count": 16,
      "outputs": [
        {
          "output_type": "execute_result",
          "data": {
            "text/plain": [
              "245726"
            ]
          },
          "metadata": {},
          "execution_count": 16
        }
      ]
    },
    {
      "cell_type": "code",
      "metadata": {
        "colab": {
          "base_uri": "https://localhost:8080/"
        },
        "id": "sLp2EW82JlVW",
        "outputId": "48e38997-55b1-415a-f3c4-e53bb08cf41e"
      },
      "source": [
        "print(\"Portion of successful breakouts after allowing average volume to be only 1 million and up :\")\n",
        "round(140769 / (140769 + 245726), 2)"
      ],
      "execution_count": 17,
      "outputs": [
        {
          "output_type": "stream",
          "name": "stdout",
          "text": [
            "Portion of successful breakouts after allowing average volume to be only 1 million and up :\n"
          ]
        },
        {
          "output_type": "execute_result",
          "data": {
            "text/plain": [
              "0.36"
            ]
          },
          "metadata": {},
          "execution_count": 17
        }
      ]
    },
    {
      "cell_type": "code",
      "metadata": {
        "colab": {
          "base_uri": "https://localhost:8080/"
        },
        "id": "NjdKqHSCWtdm",
        "outputId": "0b20e29a-5ac7-4d6a-97bd-52039721a440"
      },
      "source": [
        "print(\"Total setups with volume 1 million and up\")\n",
        "len(original_df[original_df[\"avg_v_20\"] > 1000000])"
      ],
      "execution_count": 18,
      "outputs": [
        {
          "output_type": "stream",
          "name": "stdout",
          "text": [
            "Total setups with volume 1 million and up\n"
          ]
        },
        {
          "output_type": "execute_result",
          "data": {
            "text/plain": [
              "388894"
            ]
          },
          "metadata": {},
          "execution_count": 18
        }
      ]
    },
    {
      "cell_type": "markdown",
      "metadata": {
        "id": "USfJYZRQJ9HK"
      },
      "source": [
        "After increasing the minimum volume requirement to 1 million, we see that the ratio of successful setups remains almost unchanged, yet the total number of setups is now only a third of all exisitng ones in the dataset.\n",
        "\n",
        "Let us make a decision to only include setups that have an average volume of 1 million and up for the following reasons\n",
        "- at least on the surface level, the proprotions of the outcome remain the same\n",
        "- training time will be faster\n",
        "- finally, we want to train a model with which we would be able to scale our transactions. there's no sense for it to get \"accustomed\" to lower volume setups\n"
      ]
    },
    {
      "cell_type": "code",
      "metadata": {
        "id": "P6A6JnYUZt5x"
      },
      "source": [
        "one_mil_and_up_df = original_df[original_df[\"avg_v_20\"] > 1000000]"
      ],
      "execution_count": 19,
      "outputs": []
    },
    {
      "cell_type": "code",
      "metadata": {
        "colab": {
          "base_uri": "https://localhost:8080/"
        },
        "id": "KP-_BkLwbwYS",
        "outputId": "1ba4dd19-60c7-415c-aa63-0e1839b7ece7"
      },
      "source": [
        "one_mil_and_up_df.shape"
      ],
      "execution_count": 20,
      "outputs": [
        {
          "output_type": "execute_result",
          "data": {
            "text/plain": [
              "(388894, 26)"
            ]
          },
          "metadata": {},
          "execution_count": 20
        }
      ]
    },
    {
      "cell_type": "markdown",
      "metadata": {
        "id": "zXhLQMznb47M"
      },
      "source": [
        "Let's extract only our features and label now"
      ]
    },
    {
      "cell_type": "code",
      "metadata": {
        "id": "jgAV4G1XZ63e"
      },
      "source": [
        "features_label_df = one_mil_and_up_df[['pole_length_1' ,'pole_flag_length_ratio_1', 'flag_low_progress' , 'pivot_to_flag_height_ratio', 'pole_height_in_candles', 'pole_flag_height_ratio', 'label_class_2_num_of_lows_2_profit_r']]"
      ],
      "execution_count": 21,
      "outputs": []
    },
    {
      "cell_type": "code",
      "metadata": {
        "colab": {
          "base_uri": "https://localhost:8080/"
        },
        "id": "YH_56pkQZvcl",
        "outputId": "f2184861-b22a-45ee-b27f-69c9dbdda73b"
      },
      "source": [
        "features_label_df.shape"
      ],
      "execution_count": 22,
      "outputs": [
        {
          "output_type": "execute_result",
          "data": {
            "text/plain": [
              "(388894, 7)"
            ]
          },
          "metadata": {},
          "execution_count": 22
        }
      ]
    },
    {
      "cell_type": "code",
      "metadata": {
        "id": "KY1HHcnscgLg"
      },
      "source": [
        "features_only = features_label_df.drop(\"label_class_2_num_of_lows_2_profit_r\", axis=1)"
      ],
      "execution_count": 23,
      "outputs": []
    },
    {
      "cell_type": "code",
      "metadata": {
        "colab": {
          "base_uri": "https://localhost:8080/",
          "height": 616
        },
        "id": "StIlrKVxcNQ5",
        "outputId": "2660f9ed-7835-44c0-a2f2-c75b131f0c74"
      },
      "source": [
        "#correlation matrix\n",
        "corrmat = features_only.corr()\n",
        "f, ax = plt.subplots(figsize=(9, 9))\n",
        "sns.heatmap(corrmat, square=True);"
      ],
      "execution_count": 24,
      "outputs": [
        {
          "output_type": "display_data",
          "data": {
            "image/png": "[encoded data removed]",
            "text/plain": [
              "<Figure size 648x648 with 2 Axes>"
            ]
          },
          "metadata": {
            "needs_background": "light"
          }
        }
      ]
    },
    {
      "cell_type": "markdown",
      "metadata": {
        "id": "Foc_MllQdeyi"
      },
      "source": [
        "Looking at this correlation map, we can see that pole_flag_length_ratio_1 and pole_length_1 have a very strong correlation. Otherwise, all other features are decoupled. The least correlation is between the progress at which a flag makes its lowest low and the pole height to flag height ratio."
      ]
    },
    {
      "cell_type": "markdown",
      "metadata": {
        "id": "IZ6yYhz8fUQS"
      },
      "source": [
        "## Data clean up"
      ]
    },
    {
      "cell_type": "markdown",
      "metadata": {
        "id": "kvYkiyE5fZFV"
      },
      "source": [
        "Let us check how much missing data we have in this dataset."
      ]
    },
    {
      "cell_type": "code",
      "metadata": {
        "colab": {
          "base_uri": "https://localhost:8080/",
          "height": 265
        },
        "id": "9U7SRBkee2XA",
        "outputId": "af02e85e-508e-41e8-d5d7-88091795d638"
      },
      "source": [
        "#missing data\n",
        "total = features_label_df.isnull().sum().sort_values(ascending=False)\n",
        "percent = (features_label_df.isnull().sum()/features_label_df.isnull().count()).sort_values(ascending=False)\n",
        "missing_data = pd.concat([total, percent], axis=1, keys=['Total', 'Percent'])\n",
        "missing_data"
      ],
      "execution_count": 25,
      "outputs": [
        {
          "output_type": "execute_result",
          "data": {
            "text/html": [
              "<div>\n",
              "<style scoped>\n",
              "    .dataframe tbody tr th:only-of-type {\n",
              "        vertical-align: middle;\n",
              "    }\n",
              "\n",
              "    .dataframe tbody tr th {\n",
              "        vertical-align: top;\n",
              "    }\n",
              "\n",
              "    .dataframe thead th {\n",
              "        text-align: right;\n",
              "    }\n",
              "</style>\n",
              "<table border=\"1\" class=\"dataframe\">\n",
              "  <thead>\n",
              "    <tr style=\"text-align: right;\">\n",
              "      <th></th>\n",
              "      <th>Total</th>\n",
              "      <th>Percent</th>\n",
              "    </tr>\n",
              "  </thead>\n",
              "  <tbody>\n",
              "    <tr>\n",
              "      <th>label_class_2_num_of_lows_2_profit_r</th>\n",
              "      <td>2399</td>\n",
              "      <td>0.006169</td>\n",
              "    </tr>\n",
              "    <tr>\n",
              "      <th>pivot_to_flag_height_ratio</th>\n",
              "      <td>1202</td>\n",
              "      <td>0.003091</td>\n",
              "    </tr>\n",
              "    <tr>\n",
              "      <th>pole_flag_length_ratio_1</th>\n",
              "      <td>212</td>\n",
              "      <td>0.000545</td>\n",
              "    </tr>\n",
              "    <tr>\n",
              "      <th>pole_length_1</th>\n",
              "      <td>212</td>\n",
              "      <td>0.000545</td>\n",
              "    </tr>\n",
              "    <tr>\n",
              "      <th>flag_low_progress</th>\n",
              "      <td>122</td>\n",
              "      <td>0.000314</td>\n",
              "    </tr>\n",
              "    <tr>\n",
              "      <th>pole_flag_height_ratio</th>\n",
              "      <td>75</td>\n",
              "      <td>0.000193</td>\n",
              "    </tr>\n",
              "    <tr>\n",
              "      <th>pole_height_in_candles</th>\n",
              "      <td>2</td>\n",
              "      <td>0.000005</td>\n",
              "    </tr>\n",
              "  </tbody>\n",
              "</table>\n",
              "</div>"
            ],
            "text/plain": [
              "                                      Total   Percent\n",
              "label_class_2_num_of_lows_2_profit_r   2399  0.006169\n",
              "pivot_to_flag_height_ratio             1202  0.003091\n",
              "pole_flag_length_ratio_1                212  0.000545\n",
              "pole_length_1                           212  0.000545\n",
              "flag_low_progress                       122  0.000314\n",
              "pole_flag_height_ratio                   75  0.000193\n",
              "pole_height_in_candles                    2  0.000005"
            ]
          },
          "metadata": {},
          "execution_count": 25
        }
      ]
    },
    {
      "cell_type": "markdown",
      "metadata": {
        "id": "LThj-LSEgrwB"
      },
      "source": [
        "Hmm, I expected these to be non-existent, but I am glad that we checked:) Over all, even 'label_class_2_num_of_lows_2_profit_r', the highest with missing data, is less than 0.01% of our data.\n",
        "\n",
        "To deal with this data, we are just going to delete the entries with missing values.\n"
      ]
    },
    {
      "cell_type": "code",
      "metadata": {
        "colab": {
          "base_uri": "https://localhost:8080/"
        },
        "id": "WCt66WD8hYD1",
        "outputId": "ecb13e03-d222-43f4-fd74-81aff017373a"
      },
      "source": [
        "features_label_df = features_label_df.dropna()\n",
        "features_label_df.shape"
      ],
      "execution_count": 26,
      "outputs": [
        {
          "output_type": "execute_result",
          "data": {
            "text/plain": [
              "(384895, 7)"
            ]
          },
          "metadata": {},
          "execution_count": 26
        }
      ]
    },
    {
      "cell_type": "markdown",
      "metadata": {
        "id": "zXErNNHhjtfb"
      },
      "source": [
        "Let's verify that there are no more null values in the dataset"
      ]
    },
    {
      "cell_type": "code",
      "metadata": {
        "colab": {
          "base_uri": "https://localhost:8080/"
        },
        "id": "e5hUXXpzjiCT",
        "outputId": "2c183c57-1339-468a-dca6-28fc4bb9f113"
      },
      "source": [
        "features_label_df.isnull().sum().max() #"
      ],
      "execution_count": 27,
      "outputs": [
        {
          "output_type": "execute_result",
          "data": {
            "text/plain": [
              "0"
            ]
          },
          "metadata": {},
          "execution_count": 27
        }
      ]
    },
    {
      "cell_type": "markdown",
      "metadata": {
        "id": "KLPTqHG6w9cC"
      },
      "source": [
        "Now, let's see if there are any infinity values in the dataset"
      ]
    },
    {
      "cell_type": "code",
      "metadata": {
        "colab": {
          "base_uri": "https://localhost:8080/",
          "height": 295
        },
        "id": "a05DgCzNs6mi",
        "outputId": "6bfbb9b8-a00f-4e6d-894a-951af7f5f2a6"
      },
      "source": [
        "features_label_df.describe()"
      ],
      "execution_count": 28,
      "outputs": [
        {
          "output_type": "execute_result",
          "data": {
            "text/html": [
              "<div>\n",
              "<style scoped>\n",
              "    .dataframe tbody tr th:only-of-type {\n",
              "        vertical-align: middle;\n",
              "    }\n",
              "\n",
              "    .dataframe tbody tr th {\n",
              "        vertical-align: top;\n",
              "    }\n",
              "\n",
              "    .dataframe thead th {\n",
              "        text-align: right;\n",
              "    }\n",
              "</style>\n",
              "<table border=\"1\" class=\"dataframe\">\n",
              "  <thead>\n",
              "    <tr style=\"text-align: right;\">\n",
              "      <th></th>\n",
              "      <th>pole_length_1</th>\n",
              "      <th>pole_flag_length_ratio_1</th>\n",
              "      <th>flag_low_progress</th>\n",
              "      <th>pivot_to_flag_height_ratio</th>\n",
              "      <th>pole_height_in_candles</th>\n",
              "      <th>pole_flag_height_ratio</th>\n",
              "    </tr>\n",
              "  </thead>\n",
              "  <tbody>\n",
              "    <tr>\n",
              "      <th>count</th>\n",
              "      <td>384895.000000</td>\n",
              "      <td>384895.000000</td>\n",
              "      <td>384895.000000</td>\n",
              "      <td>384895.000000</td>\n",
              "      <td>3.848950e+05</td>\n",
              "      <td>384895.000000</td>\n",
              "    </tr>\n",
              "    <tr>\n",
              "      <th>mean</th>\n",
              "      <td>13.290609</td>\n",
              "      <td>1.091648</td>\n",
              "      <td>0.605796</td>\n",
              "      <td>0.591151</td>\n",
              "      <td>inf</td>\n",
              "      <td>1.749871</td>\n",
              "    </tr>\n",
              "    <tr>\n",
              "      <th>std</th>\n",
              "      <td>8.333873</td>\n",
              "      <td>0.962350</td>\n",
              "      <td>0.230863</td>\n",
              "      <td>0.478634</td>\n",
              "      <td>NaN</td>\n",
              "      <td>2.459774</td>\n",
              "    </tr>\n",
              "    <tr>\n",
              "      <th>min</th>\n",
              "      <td>2.000000</td>\n",
              "      <td>0.046512</td>\n",
              "      <td>0.022727</td>\n",
              "      <td>0.000036</td>\n",
              "      <td>7.521393e-04</td>\n",
              "      <td>0.003546</td>\n",
              "    </tr>\n",
              "    <tr>\n",
              "      <th>25%</th>\n",
              "      <td>7.000000</td>\n",
              "      <td>0.428571</td>\n",
              "      <td>0.444444</td>\n",
              "      <td>0.381157</td>\n",
              "      <td>4.211045e+00</td>\n",
              "      <td>0.904444</td>\n",
              "    </tr>\n",
              "    <tr>\n",
              "      <th>50%</th>\n",
              "      <td>11.000000</td>\n",
              "      <td>0.800000</td>\n",
              "      <td>0.636364</td>\n",
              "      <td>0.603261</td>\n",
              "      <td>5.915215e+00</td>\n",
              "      <td>1.351464</td>\n",
              "    </tr>\n",
              "    <tr>\n",
              "      <th>75%</th>\n",
              "      <td>17.000000</td>\n",
              "      <td>1.444444</td>\n",
              "      <td>0.791667</td>\n",
              "      <td>0.790463</td>\n",
              "      <td>8.590208e+00</td>\n",
              "      <td>2.039076</td>\n",
              "    </tr>\n",
              "    <tr>\n",
              "      <th>max</th>\n",
              "      <td>76.000000</td>\n",
              "      <td>11.833333</td>\n",
              "      <td>1.000000</td>\n",
              "      <td>34.000000</td>\n",
              "      <td>inf</td>\n",
              "      <td>227.400000</td>\n",
              "    </tr>\n",
              "  </tbody>\n",
              "</table>\n",
              "</div>"
            ],
            "text/plain": [
              "       pole_length_1  ...  pole_flag_height_ratio\n",
              "count  384895.000000  ...           384895.000000\n",
              "mean       13.290609  ...                1.749871\n",
              "std         8.333873  ...                2.459774\n",
              "min         2.000000  ...                0.003546\n",
              "25%         7.000000  ...                0.904444\n",
              "50%        11.000000  ...                1.351464\n",
              "75%        17.000000  ...                2.039076\n",
              "max        76.000000  ...              227.400000\n",
              "\n",
              "[8 rows x 6 columns]"
            ]
          },
          "metadata": {},
          "execution_count": 28
        }
      ]
    },
    {
      "cell_type": "markdown",
      "metadata": {
        "id": "lMY6DRw8tSwb"
      },
      "source": [
        "There are some weird values in \"pole_height_in_candles\". Let's remove them."
      ]
    },
    {
      "cell_type": "code",
      "metadata": {
        "id": "v2XN-WpKuraT"
      },
      "source": [
        "features_label_df.replace([np.inf, -np.inf], np.nan, inplace=True)\n",
        "features_label_df = features_label_df.dropna()"
      ],
      "execution_count": 29,
      "outputs": []
    },
    {
      "cell_type": "code",
      "metadata": {
        "colab": {
          "base_uri": "https://localhost:8080/"
        },
        "id": "rV8ofxpKxfzQ",
        "outputId": "978d4c18-a802-47f2-ba3d-fe3f351ff065"
      },
      "source": [
        "features_label_df.shape"
      ],
      "execution_count": 30,
      "outputs": [
        {
          "output_type": "execute_result",
          "data": {
            "text/plain": [
              "(384890, 7)"
            ]
          },
          "metadata": {},
          "execution_count": 30
        }
      ]
    },
    {
      "cell_type": "code",
      "metadata": {
        "colab": {
          "base_uri": "https://localhost:8080/",
          "height": 295
        },
        "id": "jwWSsMIjvBmR",
        "outputId": "fbff5e27-41ab-4362-e9f8-f31230c28573"
      },
      "source": [
        "features_label_df.describe()"
      ],
      "execution_count": 31,
      "outputs": [
        {
          "output_type": "execute_result",
          "data": {
            "text/html": [
              "<div>\n",
              "<style scoped>\n",
              "    .dataframe tbody tr th:only-of-type {\n",
              "        vertical-align: middle;\n",
              "    }\n",
              "\n",
              "    .dataframe tbody tr th {\n",
              "        vertical-align: top;\n",
              "    }\n",
              "\n",
              "    .dataframe thead th {\n",
              "        text-align: right;\n",
              "    }\n",
              "</style>\n",
              "<table border=\"1\" class=\"dataframe\">\n",
              "  <thead>\n",
              "    <tr style=\"text-align: right;\">\n",
              "      <th></th>\n",
              "      <th>pole_length_1</th>\n",
              "      <th>pole_flag_length_ratio_1</th>\n",
              "      <th>flag_low_progress</th>\n",
              "      <th>pivot_to_flag_height_ratio</th>\n",
              "      <th>pole_height_in_candles</th>\n",
              "      <th>pole_flag_height_ratio</th>\n",
              "    </tr>\n",
              "  </thead>\n",
              "  <tbody>\n",
              "    <tr>\n",
              "      <th>count</th>\n",
              "      <td>384890.000000</td>\n",
              "      <td>384890.000000</td>\n",
              "      <td>384890.000000</td>\n",
              "      <td>384890.000000</td>\n",
              "      <td>384890.000000</td>\n",
              "      <td>384890.000000</td>\n",
              "    </tr>\n",
              "    <tr>\n",
              "      <th>mean</th>\n",
              "      <td>13.290665</td>\n",
              "      <td>1.091652</td>\n",
              "      <td>0.605803</td>\n",
              "      <td>0.590847</td>\n",
              "      <td>25.273414</td>\n",
              "      <td>1.749595</td>\n",
              "    </tr>\n",
              "    <tr>\n",
              "      <th>std</th>\n",
              "      <td>8.333913</td>\n",
              "      <td>0.962355</td>\n",
              "      <td>0.230857</td>\n",
              "      <td>0.471142</td>\n",
              "      <td>1696.566691</td>\n",
              "      <td>2.458597</td>\n",
              "    </tr>\n",
              "    <tr>\n",
              "      <th>min</th>\n",
              "      <td>2.000000</td>\n",
              "      <td>0.046512</td>\n",
              "      <td>0.022727</td>\n",
              "      <td>0.000036</td>\n",
              "      <td>0.000752</td>\n",
              "      <td>0.003546</td>\n",
              "    </tr>\n",
              "    <tr>\n",
              "      <th>25%</th>\n",
              "      <td>7.000000</td>\n",
              "      <td>0.428571</td>\n",
              "      <td>0.444444</td>\n",
              "      <td>0.381148</td>\n",
              "      <td>4.211045</td>\n",
              "      <td>0.904396</td>\n",
              "    </tr>\n",
              "    <tr>\n",
              "      <th>50%</th>\n",
              "      <td>11.000000</td>\n",
              "      <td>0.800000</td>\n",
              "      <td>0.636364</td>\n",
              "      <td>0.603261</td>\n",
              "      <td>5.915093</td>\n",
              "      <td>1.351417</td>\n",
              "    </tr>\n",
              "    <tr>\n",
              "      <th>75%</th>\n",
              "      <td>17.000000</td>\n",
              "      <td>1.444444</td>\n",
              "      <td>0.791667</td>\n",
              "      <td>0.790456</td>\n",
              "      <td>8.590208</td>\n",
              "      <td>2.039076</td>\n",
              "    </tr>\n",
              "    <tr>\n",
              "      <th>max</th>\n",
              "      <td>76.000000</td>\n",
              "      <td>11.833333</td>\n",
              "      <td>1.000000</td>\n",
              "      <td>34.000000</td>\n",
              "      <td>264116.139600</td>\n",
              "      <td>227.400000</td>\n",
              "    </tr>\n",
              "  </tbody>\n",
              "</table>\n",
              "</div>"
            ],
            "text/plain": [
              "       pole_length_1  ...  pole_flag_height_ratio\n",
              "count  384890.000000  ...           384890.000000\n",
              "mean       13.290665  ...                1.749595\n",
              "std         8.333913  ...                2.458597\n",
              "min         2.000000  ...                0.003546\n",
              "25%         7.000000  ...                0.904396\n",
              "50%        11.000000  ...                1.351417\n",
              "75%        17.000000  ...                2.039076\n",
              "max        76.000000  ...              227.400000\n",
              "\n",
              "[8 rows x 6 columns]"
            ]
          },
          "metadata": {},
          "execution_count": 31
        }
      ]
    },
    {
      "cell_type": "code",
      "metadata": {
        "colab": {
          "base_uri": "https://localhost:8080/",
          "height": 203
        },
        "id": "9yclE92HkH2g",
        "outputId": "1ed5eb46-5946-4ada-95cd-d6e88de18fed"
      },
      "source": [
        "features_label_df.head()"
      ],
      "execution_count": 32,
      "outputs": [
        {
          "output_type": "execute_result",
          "data": {
            "text/html": [
              "<div>\n",
              "<style scoped>\n",
              "    .dataframe tbody tr th:only-of-type {\n",
              "        vertical-align: middle;\n",
              "    }\n",
              "\n",
              "    .dataframe tbody tr th {\n",
              "        vertical-align: top;\n",
              "    }\n",
              "\n",
              "    .dataframe thead th {\n",
              "        text-align: right;\n",
              "    }\n",
              "</style>\n",
              "<table border=\"1\" class=\"dataframe\">\n",
              "  <thead>\n",
              "    <tr style=\"text-align: right;\">\n",
              "      <th></th>\n",
              "      <th>pole_length_1</th>\n",
              "      <th>pole_flag_length_ratio_1</th>\n",
              "      <th>flag_low_progress</th>\n",
              "      <th>pivot_to_flag_height_ratio</th>\n",
              "      <th>pole_height_in_candles</th>\n",
              "      <th>pole_flag_height_ratio</th>\n",
              "      <th>label_class_2_num_of_lows_2_profit_r</th>\n",
              "    </tr>\n",
              "  </thead>\n",
              "  <tbody>\n",
              "    <tr>\n",
              "      <th>0</th>\n",
              "      <td>21.0</td>\n",
              "      <td>1.909091</td>\n",
              "      <td>0.333333</td>\n",
              "      <td>0.849126</td>\n",
              "      <td>6.528945</td>\n",
              "      <td>1.067483</td>\n",
              "      <td>True</td>\n",
              "    </tr>\n",
              "    <tr>\n",
              "      <th>1</th>\n",
              "      <td>21.0</td>\n",
              "      <td>1.400000</td>\n",
              "      <td>0.250000</td>\n",
              "      <td>0.765210</td>\n",
              "      <td>6.528945</td>\n",
              "      <td>1.067483</td>\n",
              "      <td>False</td>\n",
              "    </tr>\n",
              "    <tr>\n",
              "      <th>2</th>\n",
              "      <td>21.0</td>\n",
              "      <td>1.400000</td>\n",
              "      <td>0.250000</td>\n",
              "      <td>0.793182</td>\n",
              "      <td>6.528945</td>\n",
              "      <td>1.067483</td>\n",
              "      <td>False</td>\n",
              "    </tr>\n",
              "    <tr>\n",
              "      <th>3</th>\n",
              "      <td>21.0</td>\n",
              "      <td>3.500000</td>\n",
              "      <td>0.571429</td>\n",
              "      <td>0.947028</td>\n",
              "      <td>6.528945</td>\n",
              "      <td>1.067483</td>\n",
              "      <td>False</td>\n",
              "    </tr>\n",
              "    <tr>\n",
              "      <th>4</th>\n",
              "      <td>21.0</td>\n",
              "      <td>2.333333</td>\n",
              "      <td>0.400000</td>\n",
              "      <td>0.891084</td>\n",
              "      <td>6.528945</td>\n",
              "      <td>1.067483</td>\n",
              "      <td>False</td>\n",
              "    </tr>\n",
              "  </tbody>\n",
              "</table>\n",
              "</div>"
            ],
            "text/plain": [
              "   pole_length_1  ...  label_class_2_num_of_lows_2_profit_r\n",
              "0           21.0  ...                                  True\n",
              "1           21.0  ...                                 False\n",
              "2           21.0  ...                                 False\n",
              "3           21.0  ...                                 False\n",
              "4           21.0  ...                                 False\n",
              "\n",
              "[5 rows x 7 columns]"
            ]
          },
          "metadata": {},
          "execution_count": 32
        }
      ]
    },
    {
      "cell_type": "markdown",
      "metadata": {
        "id": "hM6iL2c5kP__"
      },
      "source": [
        "Another thing I would like to address is large decimal places. They are not necessary in such excessive amounts, and they are going to slow down the training without giving much value to the model.\n",
        "\n",
        "We are going to round all features to 3 decimal places."
      ]
    },
    {
      "cell_type": "code",
      "metadata": {
        "colab": {
          "base_uri": "https://localhost:8080/",
          "height": 203
        },
        "id": "OvWSTdrVlFKl",
        "outputId": "56768315-5849-4f20-df78-dfdb8e9a8ec3"
      },
      "source": [
        "features_label_df = features_label_df.round(3)\n",
        "\n",
        "features_label_df.head()"
      ],
      "execution_count": 33,
      "outputs": [
        {
          "output_type": "execute_result",
          "data": {
            "text/html": [
              "<div>\n",
              "<style scoped>\n",
              "    .dataframe tbody tr th:only-of-type {\n",
              "        vertical-align: middle;\n",
              "    }\n",
              "\n",
              "    .dataframe tbody tr th {\n",
              "        vertical-align: top;\n",
              "    }\n",
              "\n",
              "    .dataframe thead th {\n",
              "        text-align: right;\n",
              "    }\n",
              "</style>\n",
              "<table border=\"1\" class=\"dataframe\">\n",
              "  <thead>\n",
              "    <tr style=\"text-align: right;\">\n",
              "      <th></th>\n",
              "      <th>pole_length_1</th>\n",
              "      <th>pole_flag_length_ratio_1</th>\n",
              "      <th>flag_low_progress</th>\n",
              "      <th>pivot_to_flag_height_ratio</th>\n",
              "      <th>pole_height_in_candles</th>\n",
              "      <th>pole_flag_height_ratio</th>\n",
              "      <th>label_class_2_num_of_lows_2_profit_r</th>\n",
              "    </tr>\n",
              "  </thead>\n",
              "  <tbody>\n",
              "    <tr>\n",
              "      <th>0</th>\n",
              "      <td>21.0</td>\n",
              "      <td>1.909</td>\n",
              "      <td>0.333</td>\n",
              "      <td>0.849</td>\n",
              "      <td>6.529</td>\n",
              "      <td>1.067</td>\n",
              "      <td>True</td>\n",
              "    </tr>\n",
              "    <tr>\n",
              "      <th>1</th>\n",
              "      <td>21.0</td>\n",
              "      <td>1.400</td>\n",
              "      <td>0.250</td>\n",
              "      <td>0.765</td>\n",
              "      <td>6.529</td>\n",
              "      <td>1.067</td>\n",
              "      <td>False</td>\n",
              "    </tr>\n",
              "    <tr>\n",
              "      <th>2</th>\n",
              "      <td>21.0</td>\n",
              "      <td>1.400</td>\n",
              "      <td>0.250</td>\n",
              "      <td>0.793</td>\n",
              "      <td>6.529</td>\n",
              "      <td>1.067</td>\n",
              "      <td>False</td>\n",
              "    </tr>\n",
              "    <tr>\n",
              "      <th>3</th>\n",
              "      <td>21.0</td>\n",
              "      <td>3.500</td>\n",
              "      <td>0.571</td>\n",
              "      <td>0.947</td>\n",
              "      <td>6.529</td>\n",
              "      <td>1.067</td>\n",
              "      <td>False</td>\n",
              "    </tr>\n",
              "    <tr>\n",
              "      <th>4</th>\n",
              "      <td>21.0</td>\n",
              "      <td>2.333</td>\n",
              "      <td>0.400</td>\n",
              "      <td>0.891</td>\n",
              "      <td>6.529</td>\n",
              "      <td>1.067</td>\n",
              "      <td>False</td>\n",
              "    </tr>\n",
              "  </tbody>\n",
              "</table>\n",
              "</div>"
            ],
            "text/plain": [
              "   pole_length_1  ...  label_class_2_num_of_lows_2_profit_r\n",
              "0           21.0  ...                                  True\n",
              "1           21.0  ...                                 False\n",
              "2           21.0  ...                                 False\n",
              "3           21.0  ...                                 False\n",
              "4           21.0  ...                                 False\n",
              "\n",
              "[5 rows x 7 columns]"
            ]
          },
          "metadata": {},
          "execution_count": 33
        }
      ]
    },
    {
      "cell_type": "markdown",
      "metadata": {
        "id": "BIw9GzGpm30Z"
      },
      "source": [
        "Now, let's split the data into x and y, and preprocess the X values by scaling them"
      ]
    },
    {
      "cell_type": "code",
      "metadata": {
        "id": "N9Ra5rZ7mIP3"
      },
      "source": [
        "y_df = features_label_df[\"label_class_2_num_of_lows_2_profit_r\"]\n",
        "x_df = features_label_df.drop(\"label_class_2_num_of_lows_2_profit_r\", axis=1)\n",
        "x_df = x_df.astype(float)"
      ],
      "execution_count": 34,
      "outputs": []
    },
    {
      "cell_type": "code",
      "metadata": {
        "colab": {
          "base_uri": "https://localhost:8080/",
          "height": 203
        },
        "id": "_-fm7rlqm2sg",
        "outputId": "3d2ad5d3-6d16-4407-b93a-a58f6666b663"
      },
      "source": [
        "x = x_df.values\n",
        "standard_scaler = preprocessing.StandardScaler()\n",
        "x_scaled = standard_scaler.fit_transform(x)\n",
        "x_df = pd.DataFrame(x_scaled, columns=x_df.columns)\n",
        "x_df.tail()"
      ],
      "execution_count": 35,
      "outputs": [
        {
          "output_type": "execute_result",
          "data": {
            "text/html": [
              "<div>\n",
              "<style scoped>\n",
              "    .dataframe tbody tr th:only-of-type {\n",
              "        vertical-align: middle;\n",
              "    }\n",
              "\n",
              "    .dataframe tbody tr th {\n",
              "        vertical-align: top;\n",
              "    }\n",
              "\n",
              "    .dataframe thead th {\n",
              "        text-align: right;\n",
              "    }\n",
              "</style>\n",
              "<table border=\"1\" class=\"dataframe\">\n",
              "  <thead>\n",
              "    <tr style=\"text-align: right;\">\n",
              "      <th></th>\n",
              "      <th>pole_length_1</th>\n",
              "      <th>pole_flag_length_ratio_1</th>\n",
              "      <th>flag_low_progress</th>\n",
              "      <th>pivot_to_flag_height_ratio</th>\n",
              "      <th>pole_height_in_candles</th>\n",
              "      <th>pole_flag_height_ratio</th>\n",
              "    </tr>\n",
              "  </thead>\n",
              "  <tbody>\n",
              "    <tr>\n",
              "      <th>384885</th>\n",
              "      <td>0.685073</td>\n",
              "      <td>-0.428791</td>\n",
              "      <td>0.512045</td>\n",
              "      <td>0.598871</td>\n",
              "      <td>-0.010116</td>\n",
              "      <td>-0.267061</td>\n",
              "    </tr>\n",
              "    <tr>\n",
              "      <th>384886</th>\n",
              "      <td>0.685073</td>\n",
              "      <td>1.059224</td>\n",
              "      <td>-1.324658</td>\n",
              "      <td>0.390865</td>\n",
              "      <td>-0.010116</td>\n",
              "      <td>-0.238996</td>\n",
              "    </tr>\n",
              "    <tr>\n",
              "      <th>384887</th>\n",
              "      <td>0.685073</td>\n",
              "      <td>-0.428791</td>\n",
              "      <td>0.512045</td>\n",
              "      <td>0.543686</td>\n",
              "      <td>-0.010116</td>\n",
              "      <td>-0.267061</td>\n",
              "    </tr>\n",
              "    <tr>\n",
              "      <th>384888</th>\n",
              "      <td>0.685073</td>\n",
              "      <td>1.059224</td>\n",
              "      <td>-1.324658</td>\n",
              "      <td>0.524583</td>\n",
              "      <td>-0.010116</td>\n",
              "      <td>-0.238996</td>\n",
              "    </tr>\n",
              "    <tr>\n",
              "      <th>384889</th>\n",
              "      <td>0.685073</td>\n",
              "      <td>1.059224</td>\n",
              "      <td>-1.324658</td>\n",
              "      <td>0.371763</td>\n",
              "      <td>-0.010116</td>\n",
              "      <td>-0.238996</td>\n",
              "    </tr>\n",
              "  </tbody>\n",
              "</table>\n",
              "</div>"
            ],
            "text/plain": [
              "        pole_length_1  ...  pole_flag_height_ratio\n",
              "384885       0.685073  ...               -0.267061\n",
              "384886       0.685073  ...               -0.238996\n",
              "384887       0.685073  ...               -0.267061\n",
              "384888       0.685073  ...               -0.238996\n",
              "384889       0.685073  ...               -0.238996\n",
              "\n",
              "[5 rows x 6 columns]"
            ]
          },
          "metadata": {},
          "execution_count": 35
        }
      ]
    },
    {
      "cell_type": "markdown",
      "metadata": {
        "id": "JWdeuzST0M4l"
      },
      "source": [
        "Lastly for this section, let's split up between training and testing data"
      ]
    },
    {
      "cell_type": "code",
      "metadata": {
        "id": "4ouHM_Ql0L-z"
      },
      "source": [
        "all_y_df = y_df.reset_index(drop=True)\n",
        "everything = x_df.reset_index(drop=True)\n",
        "everything[\"label\"] = all_y_df"
      ],
      "execution_count": 36,
      "outputs": []
    },
    {
      "cell_type": "code",
      "metadata": {
        "colab": {
          "base_uri": "https://localhost:8080/"
        },
        "id": "8fjfRQrYBMCS",
        "outputId": "af5fe1cf-93e0-4088-cf68-1376bab7fdfe"
      },
      "source": [
        "# leaving out only 10% of the dataset because it's pretty big, and I don't need so much of it to be tested\n",
        "all_train, all_test = train_test_split(everything, test_size=0.1, random_state=42, shuffle=True)\n",
        "\n",
        "print(\"Sanity check before training check\")\n",
        "print(all_train.shape)\n",
        "print(all_test.shape)\n",
        "print(all_train.sample(10))"
      ],
      "execution_count": 37,
      "outputs": [
        {
          "output_type": "stream",
          "name": "stdout",
          "text": [
            "Sanity check before training check\n",
            "(346401, 7)\n",
            "(38489, 7)\n",
            "        pole_length_1  pole_flag_length_ratio_1  ...  pole_flag_height_ratio  label\n",
            "66971       -0.754828                 -0.225124  ...               -0.387862  False\n",
            "347816      -0.994812                 -0.701039  ...               -0.386235   True\n",
            "190700      -0.034877                  0.216500  ...               -0.587163   True\n",
            "39244        0.685073                  1.333550  ...                0.880750  False\n",
            "181373      -1.354787                 -0.788325  ...                0.195398   True\n",
            "310942      -0.754828                 -0.473473  ...               -0.313429   True\n",
            "287267      -0.154869                 -0.400735  ...               -0.010410   True\n",
            "313571      -1.114804                 -0.814303  ...               -0.250385   True\n",
            "134936      -0.394853                  0.597856  ...                0.096968  False\n",
            "174087      -1.114804                 -0.926527  ...               -0.239810   True\n",
            "\n",
            "[10 rows x 7 columns]\n"
          ]
        }
      ]
    },
    {
      "cell_type": "markdown",
      "metadata": {
        "id": "NhHtYGedzlFF"
      },
      "source": [
        "# Training classifiers\n",
        "\n",
        "I will be training on 3 classifiers: decision tree, random forest, support vector machine."
      ]
    },
    {
      "cell_type": "code",
      "metadata": {
        "id": "vJ_Y4fkyMKSm"
      },
      "source": [
        "# models\n",
        "from sklearn.tree import DecisionTreeClassifier\n",
        "from sklearn.ensemble import RandomForestClassifier\n",
        "from sklearn.svm import SVC\n",
        "\n",
        "from sklearn.metrics import accuracy_score, confusion_matrix, ConfusionMatrixDisplay\n"
      ],
      "execution_count": 38,
      "outputs": []
    },
    {
      "cell_type": "code",
      "metadata": {
        "id": "UWb5Gtk-e40B"
      },
      "source": [
        "'''\n",
        "params:\n",
        "  classifier -> sklearn classifier object\n",
        "  x_array -> training data as numpy 2d array \n",
        "  y_array -> training data as labeling\n",
        "purpose:\n",
        "  trains the classifier and returns it\n",
        "'''\n",
        "def train_classifier(classifier, x_array, y_array):\n",
        "  return classifier.fit(x_array, y_array)"
      ],
      "execution_count": 39,
      "outputs": []
    },
    {
      "cell_type": "code",
      "metadata": {
        "id": "mBsfjwawfZtD"
      },
      "source": [
        "'''\n",
        "params:\n",
        "  y_pred -> predictions calculated by the classifier \n",
        "  y_test -> actual labels\n",
        "purpose:\n",
        "  displays the confusion matrix\n",
        "'''\n",
        "def show_confusion_matrix(y_pred, y_test):\n",
        "  cm = confusion_matrix(y_pred, y_test)\n",
        "\n",
        "  labels = [\"Fakeout\", \"Breakout\"]\n",
        "\n",
        "  disp = ConfusionMatrixDisplay(confusion_matrix=cm, display_labels=labels)\n",
        "\n",
        "  disp.plot(cmap=plt.cm.Blues)\n",
        "  plt.show()"
      ],
      "execution_count": 40,
      "outputs": []
    },
    {
      "cell_type": "code",
      "metadata": {
        "id": "2uuGsmyhgZv7"
      },
      "source": [
        "'''\n",
        "params:\n",
        "  y_pred -> predictions calculated by the classifier \n",
        "  y_test -> actual labels\n",
        "purpose:\n",
        "  displays the accuracy\n",
        "'''\n",
        "def show_accuracy(y_pred, y_test):\n",
        "  print(\"Accuracy:\", accuracy_score(y_test, y_pred))"
      ],
      "execution_count": 41,
      "outputs": []
    },
    {
      "cell_type": "code",
      "metadata": {
        "id": "7_bWX_QnoFNv"
      },
      "source": [
        "X_train = all_train.drop(\"label\", axis=1)\n",
        "y_train = all_train[\"label\"]\n",
        "\n",
        "X_test = all_test.drop(\"label\", axis=1)\n",
        "y_test = all_test[\"label\"]"
      ],
      "execution_count": 45,
      "outputs": []
    },
    {
      "cell_type": "markdown",
      "metadata": {
        "id": "AO8qNtBJguqy"
      },
      "source": [
        "## Training Decision Tree classifier"
      ]
    },
    {
      "cell_type": "code",
      "metadata": {
        "colab": {
          "base_uri": "https://localhost:8080/",
          "height": 296
        },
        "id": "iI0-Qj4AgnfG",
        "outputId": "bfaf515b-f1ed-47f4-dcd2-e06e33f0e4ac"
      },
      "source": [
        "# creating, training, predicting using forest\n",
        "tree_clf = DecisionTreeClassifier()\n",
        "tree_clf = train_classifier(tree_clf, X_train.values, y_train.values)\n",
        "tree_y_pred = tree_clf.predict(X_test.values)\n",
        "\n",
        "# showing metrics\n",
        "show_confusion_matrix(tree_y_pred,  y_test.values)\n",
        "show_accuracy(tree_y_pred, y_test.values)\n"
      ],
      "execution_count": 46,
      "outputs": [
        {
          "output_type": "display_data",
          "data": {
            "image/png": "[encoded data removed]",
            "text/plain": [
              "<Figure size 432x288 with 2 Axes>"
            ]
          },
          "metadata": {
            "needs_background": "light"
          }
        },
        {
          "output_type": "stream",
          "name": "stdout",
          "text": [
            "Accuracy: 0.7400296188521396\n"
          ]
        }
      ]
    },
    {
      "cell_type": "markdown",
      "metadata": {
        "id": "VTFGySFSh9Xl"
      },
      "source": [
        "## Training Random Forest classifier"
      ]
    },
    {
      "cell_type": "code",
      "metadata": {
        "colab": {
          "base_uri": "https://localhost:8080/",
          "height": 296
        },
        "id": "mc4Vc1HkiFS3",
        "outputId": "c60e44ac-02c0-4bf4-b053-d89b4a967b09"
      },
      "source": [
        "# creating, training, predicting using forest\n",
        "forest_clf = RandomForestClassifier()\n",
        "forest_clf = train_classifier(forest_clf, X_train.values, y_train.values)\n",
        "forest_y_pred = forest_clf.predict(X_test.values)\n",
        "\n",
        "# show metrics\n",
        "show_confusion_matrix(forest_y_pred,  y_test.values)\n",
        "show_accuracy(forest_y_pred, y_test)"
      ],
      "execution_count": 47,
      "outputs": [
        {
          "output_type": "display_data",
          "data": {
            "image/png": "[encoded data removed]",
            "text/plain": [
              "<Figure size 432x288 with 2 Axes>"
            ]
          },
          "metadata": {
            "needs_background": "light"
          }
        },
        {
          "output_type": "stream",
          "name": "stdout",
          "text": [
            "Accuracy: 0.8006443399412819\n"
          ]
        }
      ]
    },
    {
      "cell_type": "markdown",
      "metadata": {
        "id": "j_Idmxk0jKnn"
      },
      "source": [
        "## Training Support Vector Machine"
      ]
    },
    {
      "cell_type": "code",
      "metadata": {
        "id": "bikQ6haHjKG6"
      },
      "source": [
        "# creating, training, predicting using SVM\n",
        "svc_clf = SVC()\n",
        "svc_clf = train_classifier(svc_clf, X_train.values, y_train.values)\n",
        "svc_y_pred = svc_clf.predict(X_test.values)\n",
        "\n",
        "# show metrics\n",
        "\n",
        "show_confusion_matrix(svc_y_pred,  y_test.values)\n",
        "show_accuracy(svc_y_pred, y_test)"
      ],
      "execution_count": null,
      "outputs": []
    },
    {
      "cell_type": "markdown",
      "metadata": {
        "id": "_KBxPOf1kOUQ"
      },
      "source": [
        "## Models' performance evaluation\n",
        "\n",
        "SVM and Random Forest have equally high predictions. However, if I look exclusively at who predicts a breakout more times successfully, then it is a decision tree. Its accuracy is worse, but if I relied on this model exclusively making breakout calls, I would have been profitable. Out of the times it called out a successful breakout, it was correct 65% (9.1 / 13.9) of the time. We essentially flipped our expected value from the start of the notebook.\n"
      ]
    },
    {
      "cell_type": "code",
      "metadata": {
        "colab": {
          "base_uri": "https://localhost:8080/"
        },
        "id": "9TMtkFB3lzM7",
        "outputId": "15ffdb82-0093-4b6c-ac59-6d3593396dc4"
      },
      "source": [
        "print(\"Expected value of decision tree classifier\")\n",
        "p_right = 0.65\n",
        "r_right = 2\n",
        "\n",
        "p_wrong = 0.35\n",
        "r_wrong = 1\n",
        "\n",
        "round(p_right * r_right - p_wrong * r_wrong, 2)"
      ],
      "execution_count": 1,
      "outputs": [
        {
          "output_type": "stream",
          "name": "stdout",
          "text": [
            "Expected value of decision tree classifier\n"
          ]
        },
        {
          "output_type": "execute_result",
          "data": {
            "text/plain": [
              "0.95"
            ]
          },
          "metadata": {},
          "execution_count": 1
        }
      ]
    },
    {
      "cell_type": "markdown",
      "metadata": {
        "id": "3VlQddcwUUVp"
      },
      "source": [
        "## Conclusion\n",
        "\n",
        "I am excited, to be honest. I probably should double check everything, but this has exceeded my expectations by a big margin (expecially after a fail during neural network training, which as you see I excluded).\n",
        "\n",
        "Having only baseline models perform this way is promising! With certain hyperparameter tuning, I am sure it's possible to bump up the accuracy by a few percent. Also I ahve not yet properly trained on a neural network, which has quite high variance and could be even better for a training set of this size than other classifiers tested.\n",
        "\n",
        "Also, considering that I only have 6 features being used in a set of about 400k entries, there's lots of potential here if I add just a couple/few more features that I did not have time to implement. At this point right now, each stock trendline is isolated by itself. I believe there will be another improvement in the model if I add some kind of perfomance relationship with a benchmark index like SPY (ex. how well did the stock perform during the pole formation or flag formation relative to how SPY performed?). Perhaps, I can also (or instead of SPY) add a sector index relationship to the stock's performance. Maybe it's also possible to deduce the stock's index performance relative to other indices.\n",
        "\n",
        "After bumping up the model number a bit more and fully inspecting the code/math a couple of times, the next part of this ongoing project would be bring this model into live trading environment. Perhaps, it could start as a live scan at first and gradually be translated into a live trading bot."
      ]
    }
  ]
}