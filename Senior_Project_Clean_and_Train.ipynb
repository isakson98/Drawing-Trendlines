{
  "nbformat": 4,
  "nbformat_minor": 0,
  "metadata": {
    "colab": {
      "name": "Senior_Project_Clean_and_Train.ipynb",
      "provenance": [],
      "collapsed_sections": []
    },
    "kernelspec": {
      "name": "python3",
      "display_name": "Python 3"
    },
    "language_info": {
      "name": "python"
    }
  },
  "cells": [
    {
      "cell_type": "markdown",
      "metadata": {
        "id": "mmhMnZAEu3Vf"
      },
      "source": [
        "# SENIOR PROJECT by Egor Isakson\n",
        "\n",
        "---\n",
        "\n",
        "\n",
        "\n",
        "## Intro\n",
        "\n",
        "For my senior project I decided to build a platform for constructing equities datasets and analyze the output of that platform. I have grown to be really passionate about financial markets and programming at the same time, so I did not want to miss an opportunity to display this passionate of both subjects in a formal matter.\n",
        "\n",
        "I have been getting inspiration for this kind of project ever since I got interested in trading in the beginning of my college career. I have been told that automating trading is impossible or way too difficult, that successful trading is based on intuition only. I've heard the reverse, too, that data is everything and discretionary trading is nonsensical. I did not side with either perspective but always thought there’s room for both. However, even if I wanted to combine both of these philosophies, I lacked a trading edge, meaning I could not pin point what exactly on the chart (or not) led to a succesful trade. On top of that, I simply did not have the skills to implement this technically. Therefore I needed to grow both as a trader and a programmer to.\n",
        "\n",
        "\n",
        "\n",
        "\n"
      ]
    },
    {
      "cell_type": "markdown",
      "metadata": {
        "id": "hWKGhx2ey59N"
      },
      "source": [
        "## About the project\n",
        "\n",
        "The project itself is a trading research environment. I built an infrastructure to make datasets that I could later clean, insert into a neural network and evaluate the results.\n",
        "\n",
        "There are several components to this trading environment\n",
        "- downloading data from a 3rd party vendor\n",
        "- storing and updating data\n",
        "- drawing variously defined trendlines\n",
        "- computing various features for each trendline\n",
        "- labeling the outcome of each data\n",
        "- compressing all the requested data into one piece (a single csv)\n"
      ]
    },
    {
      "cell_type": "markdown",
      "metadata": {
        "id": "fE4jg9Rdxn9p"
      },
      "source": [
        "# About this notebook's data\n",
        "\n",
        "For my first data set that came out of the trading research environment, I decided to explore bullish descending trendline breakouts on a daily chart. Having the most trading experience in this particular area (but absolutely with lots of room to grow), I thought this would be a fitting area of research.\n",
        "\n",
        "I understood that I would not have time to verify every single feature that I chose and would need to come with some kind of features in the first place. Thus, the selection and design of features in this dataset was purely a gut feel. It is whatever I thought was important to convey to the model that I would have considered important in my decision-making myself.\n",
        "\n",
        "\n",
        "## About features and labels\n",
        "\n",
        "### Features\n",
        "\n",
        "- \"pole_length_1\" -> pole length in number of candles elapsed\n",
        "- \"pole_flag_length_ratio_1\" -> pole's length in candles / flag's length in candles\n",
        "-\"flag_low_progress\" -> time of flag's low with respect to its stage in flag development\n",
        "- \"pivot_to_flag_height_ratio\" -> end of breakout range / entire flag's height\n",
        "- \"pole_height_in_candles\" -> pole height in terms of average candle's range\n",
        "- \"pole_flag_height_ratio\" -> pole price range / flag price range\n",
        "\n",
        "I intentionally avoided including prices and percentages directly because I thought they are meaningless in their original form. Each feature is based on some kind of relation to another element in the setup. Each feature is built to be relative to something.\n",
        "\n",
        "Essentially, these are all features of a pole and a flag -> two elements of triangle breakout.\n",
        "\n",
        "### Labels\n",
        "\n",
        "-  \"label_class_2_num_of_lows_2_profit_r\"\n",
        "\n",
        "I am aiming to only get a general idea whether a trendline is going to be successful or not, without diving further how good is the trendline. \n"
      ]
    },
    {
      "cell_type": "markdown",
      "metadata": {
        "id": "SrPU7nxgrzlR"
      },
      "source": [
        "## Trendline data inspection"
      ]
    },
    {
      "cell_type": "code",
      "metadata": {
        "colab": {
          "base_uri": "https://localhost:8080/"
        },
        "id": "n3dm3JCqqTIj",
        "outputId": "356e1f45-e03d-4b9b-b08b-0d967ab0379d"
      },
      "source": [
        "# adding data from my school's google drive account\n",
        "\n",
        "from google.colab import drive\n",
        "drive.mount('/content/gdrive')\n"
      ],
      "execution_count": 1,
      "outputs": [
        {
          "output_type": "stream",
          "name": "stdout",
          "text": [
            "Mounted at /content/gdrive\n"
          ]
        }
      ]
    },
    {
      "cell_type": "code",
      "metadata": {
        "id": "vbgjybmUtN8B"
      },
      "source": [
        "root_path = \"/content/gdrive/My Drive/4. Senior 2021/Senior Project (trading)/latest_big_bull_triangles_big_data.csv\""
      ],
      "execution_count": 3,
      "outputs": []
    },
    {
      "cell_type": "code",
      "metadata": {
        "id": "CMaQTpKTsvnN"
      },
      "source": [
        "# all dependencies for cleaning and scaling\n",
        "\n",
        "import pandas as pd\n",
        "import seaborn as sns\n",
        "import matplotlib.pyplot as plt\n",
        "from sklearn import preprocessing\n",
        "from sklearn.model_selection  import train_test_split\n",
        "import numpy as np"
      ],
      "execution_count": 4,
      "outputs": []
    },
    {
      "cell_type": "code",
      "metadata": {
        "colab": {
          "base_uri": "https://localhost:8080/",
          "height": 223
        },
        "id": "PvFVvuhes0_J",
        "outputId": "09902510-09c9-4f20-eae0-2199d061f9d2"
      },
      "source": [
        "\n",
        "original_df = pd.read_csv(root_path)\n",
        "original_df.head()\n"
      ],
      "execution_count": 5,
      "outputs": [
        {
          "output_type": "execute_result",
          "data": {
            "text/html": [
              "<div>\n",
              "<style scoped>\n",
              "    .dataframe tbody tr th:only-of-type {\n",
              "        vertical-align: middle;\n",
              "    }\n",
              "\n",
              "    .dataframe tbody tr th {\n",
              "        vertical-align: top;\n",
              "    }\n",
              "\n",
              "    .dataframe thead th {\n",
              "        text-align: right;\n",
              "    }\n",
              "</style>\n",
              "<table border=\"1\" class=\"dataframe\">\n",
              "  <thead>\n",
              "    <tr style=\"text-align: right;\">\n",
              "      <th></th>\n",
              "      <th>t_start</th>\n",
              "      <th>t_end</th>\n",
              "      <th>price_start</th>\n",
              "      <th>price_end</th>\n",
              "      <th>slope</th>\n",
              "      <th>intercept</th>\n",
              "      <th>rvalue</th>\n",
              "      <th>pvalue</th>\n",
              "      <th>base_length</th>\n",
              "      <th>preciseness</th>\n",
              "      <th>pole_length_1</th>\n",
              "      <th>pole_flag_length_ratio_1</th>\n",
              "      <th>flag_low_timestamp</th>\n",
              "      <th>flag_low_price</th>\n",
              "      <th>flag_low_progress</th>\n",
              "      <th>pivot_to_flag_height_ratio</th>\n",
              "      <th>pole_start_timestamp</th>\n",
              "      <th>pole_start_price</th>\n",
              "      <th>pole_height_in_candles</th>\n",
              "      <th>pole_flag_height_ratio</th>\n",
              "      <th>stop_loss_2_num_of_lows</th>\n",
              "      <th>entry_pos</th>\n",
              "      <th>profit_price_2_profitable_r_2_num_of_lows</th>\n",
              "      <th>label_class_2_num_of_lows_2_profit_r</th>\n",
              "      <th>ticker</th>\n",
              "      <th>avg_v_20</th>\n",
              "    </tr>\n",
              "  </thead>\n",
              "  <tbody>\n",
              "    <tr>\n",
              "      <th>0</th>\n",
              "      <td>1099976400000</td>\n",
              "      <td>1101272400000</td>\n",
              "      <td>18.5185</td>\n",
              "      <td>16.09</td>\n",
              "      <td>-0.232438</td>\n",
              "      <td>83.729744</td>\n",
              "      <td>-0.982277</td>\n",
              "      <td>0.000080</td>\n",
              "      <td>11</td>\n",
              "      <td>2</td>\n",
              "      <td>21.0</td>\n",
              "      <td>1.909091</td>\n",
              "      <td>1100235600000</td>\n",
              "      <td>15.6585</td>\n",
              "      <td>0.333333</td>\n",
              "      <td>0.849126</td>\n",
              "      <td>1097553600000</td>\n",
              "      <td>15.4655</td>\n",
              "      <td>6.528945</td>\n",
              "      <td>1.067483</td>\n",
              "      <td>16.2520</td>\n",
              "      <td>16.5737</td>\n",
              "      <td>17.2171</td>\n",
              "      <td>True</td>\n",
              "      <td>A</td>\n",
              "      <td>3.669455e+06</td>\n",
              "    </tr>\n",
              "    <tr>\n",
              "      <th>1</th>\n",
              "      <td>1099976400000</td>\n",
              "      <td>1101877200000</td>\n",
              "      <td>18.5185</td>\n",
              "      <td>16.33</td>\n",
              "      <td>-0.166848</td>\n",
              "      <td>65.547648</td>\n",
              "      <td>-0.999971</td>\n",
              "      <td>0.004812</td>\n",
              "      <td>15</td>\n",
              "      <td>2</td>\n",
              "      <td>21.0</td>\n",
              "      <td>1.400000</td>\n",
              "      <td>1100235600000</td>\n",
              "      <td>15.6585</td>\n",
              "      <td>0.250000</td>\n",
              "      <td>0.765210</td>\n",
              "      <td>1097553600000</td>\n",
              "      <td>15.4655</td>\n",
              "      <td>6.528945</td>\n",
              "      <td>1.067483</td>\n",
              "      <td>16.2949</td>\n",
              "      <td>16.9384</td>\n",
              "      <td>18.2254</td>\n",
              "      <td>False</td>\n",
              "      <td>A</td>\n",
              "      <td>3.669455e+06</td>\n",
              "    </tr>\n",
              "    <tr>\n",
              "      <th>2</th>\n",
              "      <td>1099976400000</td>\n",
              "      <td>1101877200000</td>\n",
              "      <td>18.5185</td>\n",
              "      <td>16.25</td>\n",
              "      <td>-0.156286</td>\n",
              "      <td>62.352670</td>\n",
              "      <td>-0.988153</td>\n",
              "      <td>0.000029</td>\n",
              "      <td>15</td>\n",
              "      <td>3</td>\n",
              "      <td>21.0</td>\n",
              "      <td>1.400000</td>\n",
              "      <td>1100235600000</td>\n",
              "      <td>15.6585</td>\n",
              "      <td>0.250000</td>\n",
              "      <td>0.793182</td>\n",
              "      <td>1097553600000</td>\n",
              "      <td>15.4655</td>\n",
              "      <td>6.528945</td>\n",
              "      <td>1.067483</td>\n",
              "      <td>16.2949</td>\n",
              "      <td>16.9384</td>\n",
              "      <td>18.2254</td>\n",
              "      <td>False</td>\n",
              "      <td>A</td>\n",
              "      <td>3.669455e+06</td>\n",
              "    </tr>\n",
              "    <tr>\n",
              "      <th>3</th>\n",
              "      <td>1099976400000</td>\n",
              "      <td>1100667600000</td>\n",
              "      <td>18.5185</td>\n",
              "      <td>15.81</td>\n",
              "      <td>-0.491097</td>\n",
              "      <td>156.262010</td>\n",
              "      <td>-0.894448</td>\n",
              "      <td>0.016124</td>\n",
              "      <td>6</td>\n",
              "      <td>3</td>\n",
              "      <td>21.0</td>\n",
              "      <td>3.500000</td>\n",
              "      <td>1100235600000</td>\n",
              "      <td>15.6585</td>\n",
              "      <td>0.571429</td>\n",
              "      <td>0.947028</td>\n",
              "      <td>1097553600000</td>\n",
              "      <td>15.4655</td>\n",
              "      <td>6.528945</td>\n",
              "      <td>1.067483</td>\n",
              "      <td>16.1290</td>\n",
              "      <td>16.7096</td>\n",
              "      <td>17.8708</td>\n",
              "      <td>False</td>\n",
              "      <td>A</td>\n",
              "      <td>3.669455e+06</td>\n",
              "    </tr>\n",
              "    <tr>\n",
              "      <th>4</th>\n",
              "      <td>1099976400000</td>\n",
              "      <td>1101099600000</td>\n",
              "      <td>18.5185</td>\n",
              "      <td>15.97</td>\n",
              "      <td>-0.259192</td>\n",
              "      <td>90.878500</td>\n",
              "      <td>-0.788452</td>\n",
              "      <td>0.011577</td>\n",
              "      <td>9</td>\n",
              "      <td>5</td>\n",
              "      <td>21.0</td>\n",
              "      <td>2.333333</td>\n",
              "      <td>1100235600000</td>\n",
              "      <td>15.6585</td>\n",
              "      <td>0.400000</td>\n",
              "      <td>0.891084</td>\n",
              "      <td>1097553600000</td>\n",
              "      <td>15.4655</td>\n",
              "      <td>6.528945</td>\n",
              "      <td>1.067483</td>\n",
              "      <td>16.2949</td>\n",
              "      <td>16.5022</td>\n",
              "      <td>16.9168</td>\n",
              "      <td>False</td>\n",
              "      <td>A</td>\n",
              "      <td>3.669455e+06</td>\n",
              "    </tr>\n",
              "  </tbody>\n",
              "</table>\n",
              "</div>"
            ],
            "text/plain": [
              "         t_start          t_end  ...  ticker      avg_v_20\n",
              "0  1099976400000  1101272400000  ...       A  3.669455e+06\n",
              "1  1099976400000  1101877200000  ...       A  3.669455e+06\n",
              "2  1099976400000  1101877200000  ...       A  3.669455e+06\n",
              "3  1099976400000  1100667600000  ...       A  3.669455e+06\n",
              "4  1099976400000  1101099600000  ...       A  3.669455e+06\n",
              "\n",
              "[5 rows x 26 columns]"
            ]
          },
          "metadata": {},
          "execution_count": 5
        }
      ]
    },
    {
      "cell_type": "markdown",
      "metadata": {
        "id": "VbqNCw0EthX6"
      },
      "source": [
        "Not all of this dataset's columns are features, or intended to be used as features at the moment. Some of them like: slope, intercept,\tflag_low_price were either a by-product that I thought would be interesting to expore later or derived in the process of making other features."
      ]
    },
    {
      "cell_type": "code",
      "metadata": {
        "colab": {
          "base_uri": "https://localhost:8080/"
        },
        "id": "9rMfVFxgt8go",
        "outputId": "c5664c03-da28-427d-be8a-6465d7faebf7"
      },
      "source": [
        "original_df.shape"
      ],
      "execution_count": 6,
      "outputs": [
        {
          "output_type": "execute_result",
          "data": {
            "text/plain": [
              "(1265328, 26)"
            ]
          },
          "metadata": {},
          "execution_count": 6
        }
      ]
    },
    {
      "cell_type": "markdown",
      "metadata": {
        "id": "YA5VlxFTuOAf"
      },
      "source": [
        "As I estimated before assembling all the data together, the total number of trendlines drawn exceeds 1 million. When it came to deciding criteria for starting points of trendlines, these were the following:\n",
        "- higher highs of higher highs (recursive process of first finding higher highs and then selecting higher highs among those left from the first call)\n",
        "- average volume of last 20 candles MUST be above 50k (I have included average volume in this dataset as well, in case this must be filtered further)"
      ]
    },
    {
      "cell_type": "markdown",
      "metadata": {
        "id": "t-SwTVBb2Jq7"
      },
      "source": [
        "# Visualization insights"
      ]
    },
    {
      "cell_type": "code",
      "metadata": {
        "colab": {
          "base_uri": "https://localhost:8080/",
          "height": 282
        },
        "id": "oCYolUAk2Co9",
        "outputId": "a86c18a2-6e55-447f-ba96-6a44c746ca97"
      },
      "source": [
        "\n",
        "original_df[\"label_class_2_num_of_lows_2_profit_r\"].astype(float).hist()"
      ],
      "execution_count": 7,
      "outputs": [
        {
          "output_type": "execute_result",
          "data": {
            "text/plain": [
              "<matplotlib.axes._subplots.AxesSubplot at 0x7f69090b7c10>"
            ]
          },
          "metadata": {},
          "execution_count": 7
        },
        {
          "output_type": "display_data",
          "data": {
            "image/png": "[encoded data removed]",
            "text/plain": [
              "<Figure size 432x288 with 1 Axes>"
            ]
          },
          "metadata": {
            "needs_background": "light"
          }
        }
      ]
    },
    {
      "cell_type": "markdown",
      "metadata": {
        "id": "DoUd7TpI22Tl"
      },
      "source": [
        "In this dataset, a label is either 1 or 0. 1 if a setup is successful; 0 if not. Interestingly, there are more successful trades than I thought there would be.\n"
      ]
    },
    {
      "cell_type": "code",
      "metadata": {
        "colab": {
          "base_uri": "https://localhost:8080/"
        },
        "id": "jeH6qNws428A",
        "outputId": "d8e20675-1190-4a1d-ff0b-c1260c67ac84"
      },
      "source": [
        "original_df[\"label_class_2_num_of_lows_2_profit_r\"].value_counts()"
      ],
      "execution_count": 8,
      "outputs": [
        {
          "output_type": "execute_result",
          "data": {
            "text/plain": [
              "False    809088\n",
              "True     448429\n",
              "Name: label_class_2_num_of_lows_2_profit_r, dtype: int64"
            ]
          },
          "metadata": {},
          "execution_count": 8
        }
      ]
    },
    {
      "cell_type": "code",
      "metadata": {
        "colab": {
          "base_uri": "https://localhost:8080/"
        },
        "id": "6y3MZlJM49Y0",
        "outputId": "39c49a07-0c86-4aba-f2e1-1d7cbb5ffe8e"
      },
      "source": [
        "print(\"Portion of successful setups\")\n",
        "round(448429 / (809088 + 448429), 2)"
      ],
      "execution_count": 9,
      "outputs": [
        {
          "output_type": "stream",
          "name": "stdout",
          "text": [
            "Portion of successful setups\n"
          ]
        },
        {
          "output_type": "execute_result",
          "data": {
            "text/plain": [
              "0.36"
            ]
          },
          "metadata": {},
          "execution_count": 9
        }
      ]
    },
    {
      "cell_type": "markdown",
      "metadata": {
        "id": "vjfSHxjl5G_C"
      },
      "source": [
        "There's a 36% chance that a trendline will be successful. Given that the risk/reward is 1:2, here is our expected value:"
      ]
    },
    {
      "cell_type": "code",
      "metadata": {
        "colab": {
          "base_uri": "https://localhost:8080/"
        },
        "id": "3ijPNbCw5un8",
        "outputId": "7b321175-e7dc-4ec1-92e9-70173fa2b263"
      },
      "source": [
        "p_right = 0.36\n",
        "r_right = 2\n",
        "\n",
        "p_wrong = 0.64\n",
        "r_wrong = 1\n",
        "\n",
        "round(p_right * r_right - p_wrong * r_wrong, 2)"
      ],
      "execution_count": 10,
      "outputs": [
        {
          "output_type": "execute_result",
          "data": {
            "text/plain": [
              "0.08"
            ]
          },
          "metadata": {},
          "execution_count": 10
        }
      ]
    },
    {
      "cell_type": "markdown",
      "metadata": {
        "id": "01x1sAjV6I3C"
      },
      "source": [
        "Thus, it looks like we can expect to be profitable by simply relying on our linear regression's trendline drawing skills, without even training a neural network:)"
      ]
    },
    {
      "cell_type": "markdown",
      "metadata": {
        "id": "8p8zsudhE_av"
      },
      "source": [
        "Now, let's examine if there's some relationship between average volume and the outcome"
      ]
    },
    {
      "cell_type": "code",
      "metadata": {
        "colab": {
          "base_uri": "https://localhost:8080/",
          "height": 308
        },
        "id": "K05UeKzy7Lx7",
        "outputId": "4fcaf051-9c2a-4827-f5e8-933a86b38d7a"
      },
      "source": [
        "original_df.plot.scatter(\"label_class_2_num_of_lows_2_profit_r\", \"avg_v_20\" )"
      ],
      "execution_count": 11,
      "outputs": [
        {
          "output_type": "execute_result",
          "data": {
            "text/plain": [
              "<matplotlib.axes._subplots.AxesSubplot at 0x7f6908b0a390>"
            ]
          },
          "metadata": {},
          "execution_count": 11
        },
        {
          "output_type": "display_data",
          "data": {
            "image/png": "[encoded data removed]",
            "text/plain": [
              "<Figure size 432x288 with 1 Axes>"
            ]
          },
          "metadata": {
            "needs_background": "light"
          }
        }
      ]
    },
    {
      "cell_type": "markdown",
      "metadata": {
        "id": "Am-Rluu4GniO"
      },
      "source": [
        "Looks like there are more trades with volume greater than 1 that have failed, but let's examine this further, if the charts is overlaying too many cases"
      ]
    },
    {
      "cell_type": "code",
      "metadata": {
        "colab": {
          "base_uri": "https://localhost:8080/"
        },
        "id": "7fRprHAJHB68",
        "outputId": "659d0c4a-91cd-4c5c-dc5b-9a2c5d6e070d"
      },
      "source": [
        "print(\"Median average volume of successful setups:\")\n",
        "original_df[original_df[\"label_class_2_num_of_lows_2_profit_r\"] == True][\"avg_v_20\"].median()"
      ],
      "execution_count": 12,
      "outputs": [
        {
          "output_type": "stream",
          "name": "stdout",
          "text": [
            "Median average volume of successful setups:\n"
          ]
        },
        {
          "output_type": "execute_result",
          "data": {
            "text/plain": [
              "461676.95"
            ]
          },
          "metadata": {},
          "execution_count": 12
        }
      ]
    },
    {
      "cell_type": "code",
      "metadata": {
        "colab": {
          "base_uri": "https://localhost:8080/"
        },
        "id": "Us9IB636Hoef",
        "outputId": "535acd3c-ffd0-4fb1-d1a2-c17bdd9a786b"
      },
      "source": [
        "print(\"Median average volume of failed setups:\")\n",
        "original_df[original_df[\"label_class_2_num_of_lows_2_profit_r\"] == False][\"avg_v_20\"].median()"
      ],
      "execution_count": 13,
      "outputs": [
        {
          "output_type": "stream",
          "name": "stdout",
          "text": [
            "Median average volume of failed setups:\n"
          ]
        },
        {
          "output_type": "execute_result",
          "data": {
            "text/plain": [
              "443694.85"
            ]
          },
          "metadata": {},
          "execution_count": 13
        }
      ]
    },
    {
      "cell_type": "markdown",
      "metadata": {
        "id": "lvGTFObIJMj3"
      },
      "source": [
        "Looking at median average volume of failed and sucecssful setups, we actually see that there was more volume done on successful setups."
      ]
    },
    {
      "cell_type": "code",
      "metadata": {
        "colab": {
          "base_uri": "https://localhost:8080/"
        },
        "id": "RuvqogAfIs-I",
        "outputId": "59d85223-ea20-45ae-ef1b-cce48e1b89a0"
      },
      "source": [
        "len(original_df[(original_df[\"label_class_2_num_of_lows_2_profit_r\"] == True) & (original_df[\"avg_v_20\"] > 1000000)])"
      ],
      "execution_count": 14,
      "outputs": [
        {
          "output_type": "execute_result",
          "data": {
            "text/plain": [
              "140769"
            ]
          },
          "metadata": {},
          "execution_count": 14
        }
      ]
    },
    {
      "cell_type": "code",
      "metadata": {
        "colab": {
          "base_uri": "https://localhost:8080/"
        },
        "id": "Nu06qQh3JBcW",
        "outputId": "ab9741ef-3462-4015-a123-323ff1340cb9"
      },
      "source": [
        "len(original_df[(original_df[\"label_class_2_num_of_lows_2_profit_r\"] == False) & (original_df[\"avg_v_20\"] > 1000000)])"
      ],
      "execution_count": 15,
      "outputs": [
        {
          "output_type": "execute_result",
          "data": {
            "text/plain": [
              "245726"
            ]
          },
          "metadata": {},
          "execution_count": 15
        }
      ]
    },
    {
      "cell_type": "code",
      "metadata": {
        "colab": {
          "base_uri": "https://localhost:8080/"
        },
        "id": "sLp2EW82JlVW",
        "outputId": "4c074a16-a8be-47ef-ff23-47ac5768d14f"
      },
      "source": [
        "print(\"Portion of successful breakouts after allowing average volume to be only 1 million and up :\")\n",
        "round(140769 / (140769 + 245726), 2)"
      ],
      "execution_count": 16,
      "outputs": [
        {
          "output_type": "stream",
          "name": "stdout",
          "text": [
            "Portion of successful breakouts after allowing average volume to be only 1 million and up :\n"
          ]
        },
        {
          "output_type": "execute_result",
          "data": {
            "text/plain": [
              "0.36"
            ]
          },
          "metadata": {},
          "execution_count": 16
        }
      ]
    },
    {
      "cell_type": "code",
      "metadata": {
        "colab": {
          "base_uri": "https://localhost:8080/"
        },
        "id": "NjdKqHSCWtdm",
        "outputId": "73dd3def-991b-4aae-ef5a-197784c684ec"
      },
      "source": [
        "print(\"Total setups with volume 1 million and up\")\n",
        "len(original_df[original_df[\"avg_v_20\"] > 1000000])"
      ],
      "execution_count": 17,
      "outputs": [
        {
          "output_type": "stream",
          "name": "stdout",
          "text": [
            "Total setups with volume 1 million and up\n"
          ]
        },
        {
          "output_type": "execute_result",
          "data": {
            "text/plain": [
              "388894"
            ]
          },
          "metadata": {},
          "execution_count": 17
        }
      ]
    },
    {
      "cell_type": "markdown",
      "metadata": {
        "id": "USfJYZRQJ9HK"
      },
      "source": [
        "After increasing the minimum volume requirement to 1 million, we see that the ratio of successful setups remains almost unchanged, yet the total number of setups is now only a third of all exisitng ones in the dataset.\n",
        "\n",
        "Let us make a decision to only include setups that have an average volume of 1 million and up for the following reasons\n",
        "- at least on the surface level, the proprotions of the outcome remain the same\n",
        "- training time will be faster\n",
        "- finally, we want to train a model with which we would be able to scale our transactions. there's no sense for it to get \"accustomed\" to lower volume setups\n"
      ]
    },
    {
      "cell_type": "code",
      "metadata": {
        "id": "P6A6JnYUZt5x"
      },
      "source": [
        "one_mil_and_up_df = original_df[original_df[\"avg_v_20\"] > 1000000]"
      ],
      "execution_count": 18,
      "outputs": []
    },
    {
      "cell_type": "code",
      "metadata": {
        "colab": {
          "base_uri": "https://localhost:8080/"
        },
        "id": "KP-_BkLwbwYS",
        "outputId": "d98d9702-ce31-44db-dc65-4c77de472907"
      },
      "source": [
        "one_mil_and_up_df.shape"
      ],
      "execution_count": 19,
      "outputs": [
        {
          "output_type": "execute_result",
          "data": {
            "text/plain": [
              "(388894, 26)"
            ]
          },
          "metadata": {},
          "execution_count": 19
        }
      ]
    },
    {
      "cell_type": "markdown",
      "metadata": {
        "id": "zXhLQMznb47M"
      },
      "source": [
        "Let's extract only our features and label now"
      ]
    },
    {
      "cell_type": "code",
      "metadata": {
        "id": "jgAV4G1XZ63e"
      },
      "source": [
        "features_label_df = one_mil_and_up_df[['pole_length_1' ,'pole_flag_length_ratio_1', 'flag_low_progress' , 'pivot_to_flag_height_ratio', 'pole_height_in_candles', 'pole_flag_height_ratio', 'label_class_2_num_of_lows_2_profit_r']]"
      ],
      "execution_count": 20,
      "outputs": []
    },
    {
      "cell_type": "code",
      "metadata": {
        "colab": {
          "base_uri": "https://localhost:8080/"
        },
        "id": "YH_56pkQZvcl",
        "outputId": "bee9cbf9-455e-4f5d-fc9b-f874b8240539"
      },
      "source": [
        "features_label_df.shape"
      ],
      "execution_count": 21,
      "outputs": [
        {
          "output_type": "execute_result",
          "data": {
            "text/plain": [
              "(388894, 7)"
            ]
          },
          "metadata": {},
          "execution_count": 21
        }
      ]
    },
    {
      "cell_type": "code",
      "metadata": {
        "id": "KY1HHcnscgLg"
      },
      "source": [
        "features_only = features_label_df.drop(\"label_class_2_num_of_lows_2_profit_r\", axis=1)"
      ],
      "execution_count": 22,
      "outputs": []
    },
    {
      "cell_type": "code",
      "metadata": {
        "colab": {
          "base_uri": "https://localhost:8080/",
          "height": 616
        },
        "id": "StIlrKVxcNQ5",
        "outputId": "5dcd304a-792d-4220-cf42-006041f203ae"
      },
      "source": [
        "#correlation matrix\n",
        "corrmat = features_only.corr()\n",
        "f, ax = plt.subplots(figsize=(9, 9))\n",
        "sns.heatmap(corrmat, square=True);"
      ],
      "execution_count": 23,
      "outputs": [
        {
          "output_type": "display_data",
          "data": {
            "image/png": "[encoded data removed]",
            "text/plain": [
              "<Figure size 648x648 with 2 Axes>"
            ]
          },
          "metadata": {
            "needs_background": "light"
          }
        }
      ]
    },
    {
      "cell_type": "markdown",
      "metadata": {
        "id": "Foc_MllQdeyi"
      },
      "source": [
        "Looking at this correlation map, we can see that pole_flag_length_ratio_1 and pole_length_1 have a very strong correlation. Otherwise, all other features are decoupled. The least correlation is between the progress at which a flag makes its lowest low and the pole height to flag height ratio."
      ]
    },
    {
      "cell_type": "markdown",
      "metadata": {
        "id": "IZ6yYhz8fUQS"
      },
      "source": [
        "## Data clean up"
      ]
    },
    {
      "cell_type": "markdown",
      "metadata": {
        "id": "kvYkiyE5fZFV"
      },
      "source": [
        "Let us check how much missing data we have in this dataset."
      ]
    },
    {
      "cell_type": "code",
      "metadata": {
        "colab": {
          "base_uri": "https://localhost:8080/",
          "height": 265
        },
        "id": "9U7SRBkee2XA",
        "outputId": "9a81b8f9-f68c-4dc4-e948-4e0968277162"
      },
      "source": [
        "#missing data\n",
        "total = features_label_df.isnull().sum().sort_values(ascending=False)\n",
        "percent = (features_label_df.isnull().sum()/features_label_df.isnull().count()).sort_values(ascending=False)\n",
        "missing_data = pd.concat([total, percent], axis=1, keys=['Total', 'Percent'])\n",
        "missing_data"
      ],
      "execution_count": 24,
      "outputs": [
        {
          "output_type": "execute_result",
          "data": {
            "text/html": [
              "<div>\n",
              "<style scoped>\n",
              "    .dataframe tbody tr th:only-of-type {\n",
              "        vertical-align: middle;\n",
              "    }\n",
              "\n",
              "    .dataframe tbody tr th {\n",
              "        vertical-align: top;\n",
              "    }\n",
              "\n",
              "    .dataframe thead th {\n",
              "        text-align: right;\n",
              "    }\n",
              "</style>\n",
              "<table border=\"1\" class=\"dataframe\">\n",
              "  <thead>\n",
              "    <tr style=\"text-align: right;\">\n",
              "      <th></th>\n",
              "      <th>Total</th>\n",
              "      <th>Percent</th>\n",
              "    </tr>\n",
              "  </thead>\n",
              "  <tbody>\n",
              "    <tr>\n",
              "      <th>label_class_2_num_of_lows_2_profit_r</th>\n",
              "      <td>2399</td>\n",
              "      <td>0.006169</td>\n",
              "    </tr>\n",
              "    <tr>\n",
              "      <th>pivot_to_flag_height_ratio</th>\n",
              "      <td>1202</td>\n",
              "      <td>0.003091</td>\n",
              "    </tr>\n",
              "    <tr>\n",
              "      <th>pole_flag_length_ratio_1</th>\n",
              "      <td>212</td>\n",
              "      <td>0.000545</td>\n",
              "    </tr>\n",
              "    <tr>\n",
              "      <th>pole_length_1</th>\n",
              "      <td>212</td>\n",
              "      <td>0.000545</td>\n",
              "    </tr>\n",
              "    <tr>\n",
              "      <th>flag_low_progress</th>\n",
              "      <td>122</td>\n",
              "      <td>0.000314</td>\n",
              "    </tr>\n",
              "    <tr>\n",
              "      <th>pole_flag_height_ratio</th>\n",
              "      <td>75</td>\n",
              "      <td>0.000193</td>\n",
              "    </tr>\n",
              "    <tr>\n",
              "      <th>pole_height_in_candles</th>\n",
              "      <td>2</td>\n",
              "      <td>0.000005</td>\n",
              "    </tr>\n",
              "  </tbody>\n",
              "</table>\n",
              "</div>"
            ],
            "text/plain": [
              "                                      Total   Percent\n",
              "label_class_2_num_of_lows_2_profit_r   2399  0.006169\n",
              "pivot_to_flag_height_ratio             1202  0.003091\n",
              "pole_flag_length_ratio_1                212  0.000545\n",
              "pole_length_1                           212  0.000545\n",
              "flag_low_progress                       122  0.000314\n",
              "pole_flag_height_ratio                   75  0.000193\n",
              "pole_height_in_candles                    2  0.000005"
            ]
          },
          "metadata": {},
          "execution_count": 24
        }
      ]
    },
    {
      "cell_type": "markdown",
      "metadata": {
        "id": "LThj-LSEgrwB"
      },
      "source": [
        "Hmm, I expected these to be non-existent, but I am glad that we checked:) Over all, even 'label_class_2_num_of_lows_2_profit_r', the highest with missing data, is less than 0.01% of our data.\n",
        "\n",
        "To deal with this data, we are just going to delete the entries with missing values.\n"
      ]
    },
    {
      "cell_type": "code",
      "metadata": {
        "colab": {
          "base_uri": "https://localhost:8080/"
        },
        "id": "WCt66WD8hYD1",
        "outputId": "cd360f16-47d0-45b7-fd85-94d8ccc01541"
      },
      "source": [
        "features_label_df = features_label_df.dropna()\n",
        "features_label_df.shape"
      ],
      "execution_count": 25,
      "outputs": [
        {
          "output_type": "execute_result",
          "data": {
            "text/plain": [
              "(384895, 7)"
            ]
          },
          "metadata": {},
          "execution_count": 25
        }
      ]
    },
    {
      "cell_type": "markdown",
      "metadata": {
        "id": "zXErNNHhjtfb"
      },
      "source": [
        "Let's verify that there are no more null values in the dataset"
      ]
    },
    {
      "cell_type": "code",
      "metadata": {
        "colab": {
          "base_uri": "https://localhost:8080/"
        },
        "id": "e5hUXXpzjiCT",
        "outputId": "8e5664ca-3124-4252-cdee-bee8ef1e4abd"
      },
      "source": [
        "features_label_df.isnull().sum().max() #"
      ],
      "execution_count": 26,
      "outputs": [
        {
          "output_type": "execute_result",
          "data": {
            "text/plain": [
              "0"
            ]
          },
          "metadata": {},
          "execution_count": 26
        }
      ]
    },
    {
      "cell_type": "markdown",
      "metadata": {
        "id": "KLPTqHG6w9cC"
      },
      "source": [
        "Now, let's see if there are any infinity values in the dataset"
      ]
    },
    {
      "cell_type": "code",
      "metadata": {
        "colab": {
          "base_uri": "https://localhost:8080/",
          "height": 295
        },
        "id": "a05DgCzNs6mi",
        "outputId": "aa41a814-fc00-4d3e-c79d-dc08638ac53f"
      },
      "source": [
        "features_label_df.describe()"
      ],
      "execution_count": 27,
      "outputs": [
        {
          "output_type": "execute_result",
          "data": {
            "text/html": [
              "<div>\n",
              "<style scoped>\n",
              "    .dataframe tbody tr th:only-of-type {\n",
              "        vertical-align: middle;\n",
              "    }\n",
              "\n",
              "    .dataframe tbody tr th {\n",
              "        vertical-align: top;\n",
              "    }\n",
              "\n",
              "    .dataframe thead th {\n",
              "        text-align: right;\n",
              "    }\n",
              "</style>\n",
              "<table border=\"1\" class=\"dataframe\">\n",
              "  <thead>\n",
              "    <tr style=\"text-align: right;\">\n",
              "      <th></th>\n",
              "      <th>pole_length_1</th>\n",
              "      <th>pole_flag_length_ratio_1</th>\n",
              "      <th>flag_low_progress</th>\n",
              "      <th>pivot_to_flag_height_ratio</th>\n",
              "      <th>pole_height_in_candles</th>\n",
              "      <th>pole_flag_height_ratio</th>\n",
              "    </tr>\n",
              "  </thead>\n",
              "  <tbody>\n",
              "    <tr>\n",
              "      <th>count</th>\n",
              "      <td>384895.000000</td>\n",
              "      <td>384895.000000</td>\n",
              "      <td>384895.000000</td>\n",
              "      <td>384895.000000</td>\n",
              "      <td>3.848950e+05</td>\n",
              "      <td>384895.000000</td>\n",
              "    </tr>\n",
              "    <tr>\n",
              "      <th>mean</th>\n",
              "      <td>13.290609</td>\n",
              "      <td>1.091648</td>\n",
              "      <td>0.605796</td>\n",
              "      <td>0.591151</td>\n",
              "      <td>inf</td>\n",
              "      <td>1.749871</td>\n",
              "    </tr>\n",
              "    <tr>\n",
              "      <th>std</th>\n",
              "      <td>8.333873</td>\n",
              "      <td>0.962350</td>\n",
              "      <td>0.230863</td>\n",
              "      <td>0.478634</td>\n",
              "      <td>NaN</td>\n",
              "      <td>2.459774</td>\n",
              "    </tr>\n",
              "    <tr>\n",
              "      <th>min</th>\n",
              "      <td>2.000000</td>\n",
              "      <td>0.046512</td>\n",
              "      <td>0.022727</td>\n",
              "      <td>0.000036</td>\n",
              "      <td>7.521393e-04</td>\n",
              "      <td>0.003546</td>\n",
              "    </tr>\n",
              "    <tr>\n",
              "      <th>25%</th>\n",
              "      <td>7.000000</td>\n",
              "      <td>0.428571</td>\n",
              "      <td>0.444444</td>\n",
              "      <td>0.381157</td>\n",
              "      <td>4.211045e+00</td>\n",
              "      <td>0.904444</td>\n",
              "    </tr>\n",
              "    <tr>\n",
              "      <th>50%</th>\n",
              "      <td>11.000000</td>\n",
              "      <td>0.800000</td>\n",
              "      <td>0.636364</td>\n",
              "      <td>0.603261</td>\n",
              "      <td>5.915215e+00</td>\n",
              "      <td>1.351464</td>\n",
              "    </tr>\n",
              "    <tr>\n",
              "      <th>75%</th>\n",
              "      <td>17.000000</td>\n",
              "      <td>1.444444</td>\n",
              "      <td>0.791667</td>\n",
              "      <td>0.790463</td>\n",
              "      <td>8.590208e+00</td>\n",
              "      <td>2.039076</td>\n",
              "    </tr>\n",
              "    <tr>\n",
              "      <th>max</th>\n",
              "      <td>76.000000</td>\n",
              "      <td>11.833333</td>\n",
              "      <td>1.000000</td>\n",
              "      <td>34.000000</td>\n",
              "      <td>inf</td>\n",
              "      <td>227.400000</td>\n",
              "    </tr>\n",
              "  </tbody>\n",
              "</table>\n",
              "</div>"
            ],
            "text/plain": [
              "       pole_length_1  ...  pole_flag_height_ratio\n",
              "count  384895.000000  ...           384895.000000\n",
              "mean       13.290609  ...                1.749871\n",
              "std         8.333873  ...                2.459774\n",
              "min         2.000000  ...                0.003546\n",
              "25%         7.000000  ...                0.904444\n",
              "50%        11.000000  ...                1.351464\n",
              "75%        17.000000  ...                2.039076\n",
              "max        76.000000  ...              227.400000\n",
              "\n",
              "[8 rows x 6 columns]"
            ]
          },
          "metadata": {},
          "execution_count": 27
        }
      ]
    },
    {
      "cell_type": "markdown",
      "metadata": {
        "id": "lMY6DRw8tSwb"
      },
      "source": [
        "There are some weird values in \"pole_height_in_candles\". Let's remove them."
      ]
    },
    {
      "cell_type": "code",
      "metadata": {
        "id": "v2XN-WpKuraT"
      },
      "source": [
        "features_label_df.replace([np.inf, -np.inf], np.nan, inplace=True)\n",
        "features_label_df = features_label_df.dropna()"
      ],
      "execution_count": 28,
      "outputs": []
    },
    {
      "cell_type": "code",
      "metadata": {
        "colab": {
          "base_uri": "https://localhost:8080/"
        },
        "id": "rV8ofxpKxfzQ",
        "outputId": "62df0cb1-1832-4b85-c017-e9eb6a0de3a4"
      },
      "source": [
        "features_label_df.shape"
      ],
      "execution_count": 29,
      "outputs": [
        {
          "output_type": "execute_result",
          "data": {
            "text/plain": [
              "(384890, 7)"
            ]
          },
          "metadata": {},
          "execution_count": 29
        }
      ]
    },
    {
      "cell_type": "code",
      "metadata": {
        "colab": {
          "base_uri": "https://localhost:8080/",
          "height": 295
        },
        "id": "jwWSsMIjvBmR",
        "outputId": "439578be-9053-4337-dc50-f5f6fd879e0f"
      },
      "source": [
        "features_label_df.describe()"
      ],
      "execution_count": 30,
      "outputs": [
        {
          "output_type": "execute_result",
          "data": {
            "text/html": [
              "<div>\n",
              "<style scoped>\n",
              "    .dataframe tbody tr th:only-of-type {\n",
              "        vertical-align: middle;\n",
              "    }\n",
              "\n",
              "    .dataframe tbody tr th {\n",
              "        vertical-align: top;\n",
              "    }\n",
              "\n",
              "    .dataframe thead th {\n",
              "        text-align: right;\n",
              "    }\n",
              "</style>\n",
              "<table border=\"1\" class=\"dataframe\">\n",
              "  <thead>\n",
              "    <tr style=\"text-align: right;\">\n",
              "      <th></th>\n",
              "      <th>pole_length_1</th>\n",
              "      <th>pole_flag_length_ratio_1</th>\n",
              "      <th>flag_low_progress</th>\n",
              "      <th>pivot_to_flag_height_ratio</th>\n",
              "      <th>pole_height_in_candles</th>\n",
              "      <th>pole_flag_height_ratio</th>\n",
              "    </tr>\n",
              "  </thead>\n",
              "  <tbody>\n",
              "    <tr>\n",
              "      <th>count</th>\n",
              "      <td>384890.000000</td>\n",
              "      <td>384890.000000</td>\n",
              "      <td>384890.000000</td>\n",
              "      <td>384890.000000</td>\n",
              "      <td>384890.000000</td>\n",
              "      <td>384890.000000</td>\n",
              "    </tr>\n",
              "    <tr>\n",
              "      <th>mean</th>\n",
              "      <td>13.290665</td>\n",
              "      <td>1.091652</td>\n",
              "      <td>0.605803</td>\n",
              "      <td>0.590847</td>\n",
              "      <td>25.273414</td>\n",
              "      <td>1.749595</td>\n",
              "    </tr>\n",
              "    <tr>\n",
              "      <th>std</th>\n",
              "      <td>8.333913</td>\n",
              "      <td>0.962355</td>\n",
              "      <td>0.230857</td>\n",
              "      <td>0.471142</td>\n",
              "      <td>1696.566691</td>\n",
              "      <td>2.458597</td>\n",
              "    </tr>\n",
              "    <tr>\n",
              "      <th>min</th>\n",
              "      <td>2.000000</td>\n",
              "      <td>0.046512</td>\n",
              "      <td>0.022727</td>\n",
              "      <td>0.000036</td>\n",
              "      <td>0.000752</td>\n",
              "      <td>0.003546</td>\n",
              "    </tr>\n",
              "    <tr>\n",
              "      <th>25%</th>\n",
              "      <td>7.000000</td>\n",
              "      <td>0.428571</td>\n",
              "      <td>0.444444</td>\n",
              "      <td>0.381148</td>\n",
              "      <td>4.211045</td>\n",
              "      <td>0.904396</td>\n",
              "    </tr>\n",
              "    <tr>\n",
              "      <th>50%</th>\n",
              "      <td>11.000000</td>\n",
              "      <td>0.800000</td>\n",
              "      <td>0.636364</td>\n",
              "      <td>0.603261</td>\n",
              "      <td>5.915093</td>\n",
              "      <td>1.351417</td>\n",
              "    </tr>\n",
              "    <tr>\n",
              "      <th>75%</th>\n",
              "      <td>17.000000</td>\n",
              "      <td>1.444444</td>\n",
              "      <td>0.791667</td>\n",
              "      <td>0.790456</td>\n",
              "      <td>8.590208</td>\n",
              "      <td>2.039076</td>\n",
              "    </tr>\n",
              "    <tr>\n",
              "      <th>max</th>\n",
              "      <td>76.000000</td>\n",
              "      <td>11.833333</td>\n",
              "      <td>1.000000</td>\n",
              "      <td>34.000000</td>\n",
              "      <td>264116.139600</td>\n",
              "      <td>227.400000</td>\n",
              "    </tr>\n",
              "  </tbody>\n",
              "</table>\n",
              "</div>"
            ],
            "text/plain": [
              "       pole_length_1  ...  pole_flag_height_ratio\n",
              "count  384890.000000  ...           384890.000000\n",
              "mean       13.290665  ...                1.749595\n",
              "std         8.333913  ...                2.458597\n",
              "min         2.000000  ...                0.003546\n",
              "25%         7.000000  ...                0.904396\n",
              "50%        11.000000  ...                1.351417\n",
              "75%        17.000000  ...                2.039076\n",
              "max        76.000000  ...              227.400000\n",
              "\n",
              "[8 rows x 6 columns]"
            ]
          },
          "metadata": {},
          "execution_count": 30
        }
      ]
    },
    {
      "cell_type": "code",
      "metadata": {
        "colab": {
          "base_uri": "https://localhost:8080/",
          "height": 203
        },
        "id": "9yclE92HkH2g",
        "outputId": "74270855-c2f6-4fc7-f108-46799691ee8a"
      },
      "source": [
        "features_label_df.head()"
      ],
      "execution_count": 31,
      "outputs": [
        {
          "output_type": "execute_result",
          "data": {
            "text/html": [
              "<div>\n",
              "<style scoped>\n",
              "    .dataframe tbody tr th:only-of-type {\n",
              "        vertical-align: middle;\n",
              "    }\n",
              "\n",
              "    .dataframe tbody tr th {\n",
              "        vertical-align: top;\n",
              "    }\n",
              "\n",
              "    .dataframe thead th {\n",
              "        text-align: right;\n",
              "    }\n",
              "</style>\n",
              "<table border=\"1\" class=\"dataframe\">\n",
              "  <thead>\n",
              "    <tr style=\"text-align: right;\">\n",
              "      <th></th>\n",
              "      <th>pole_length_1</th>\n",
              "      <th>pole_flag_length_ratio_1</th>\n",
              "      <th>flag_low_progress</th>\n",
              "      <th>pivot_to_flag_height_ratio</th>\n",
              "      <th>pole_height_in_candles</th>\n",
              "      <th>pole_flag_height_ratio</th>\n",
              "      <th>label_class_2_num_of_lows_2_profit_r</th>\n",
              "    </tr>\n",
              "  </thead>\n",
              "  <tbody>\n",
              "    <tr>\n",
              "      <th>0</th>\n",
              "      <td>21.0</td>\n",
              "      <td>1.909091</td>\n",
              "      <td>0.333333</td>\n",
              "      <td>0.849126</td>\n",
              "      <td>6.528945</td>\n",
              "      <td>1.067483</td>\n",
              "      <td>True</td>\n",
              "    </tr>\n",
              "    <tr>\n",
              "      <th>1</th>\n",
              "      <td>21.0</td>\n",
              "      <td>1.400000</td>\n",
              "      <td>0.250000</td>\n",
              "      <td>0.765210</td>\n",
              "      <td>6.528945</td>\n",
              "      <td>1.067483</td>\n",
              "      <td>False</td>\n",
              "    </tr>\n",
              "    <tr>\n",
              "      <th>2</th>\n",
              "      <td>21.0</td>\n",
              "      <td>1.400000</td>\n",
              "      <td>0.250000</td>\n",
              "      <td>0.793182</td>\n",
              "      <td>6.528945</td>\n",
              "      <td>1.067483</td>\n",
              "      <td>False</td>\n",
              "    </tr>\n",
              "    <tr>\n",
              "      <th>3</th>\n",
              "      <td>21.0</td>\n",
              "      <td>3.500000</td>\n",
              "      <td>0.571429</td>\n",
              "      <td>0.947028</td>\n",
              "      <td>6.528945</td>\n",
              "      <td>1.067483</td>\n",
              "      <td>False</td>\n",
              "    </tr>\n",
              "    <tr>\n",
              "      <th>4</th>\n",
              "      <td>21.0</td>\n",
              "      <td>2.333333</td>\n",
              "      <td>0.400000</td>\n",
              "      <td>0.891084</td>\n",
              "      <td>6.528945</td>\n",
              "      <td>1.067483</td>\n",
              "      <td>False</td>\n",
              "    </tr>\n",
              "  </tbody>\n",
              "</table>\n",
              "</div>"
            ],
            "text/plain": [
              "   pole_length_1  ...  label_class_2_num_of_lows_2_profit_r\n",
              "0           21.0  ...                                  True\n",
              "1           21.0  ...                                 False\n",
              "2           21.0  ...                                 False\n",
              "3           21.0  ...                                 False\n",
              "4           21.0  ...                                 False\n",
              "\n",
              "[5 rows x 7 columns]"
            ]
          },
          "metadata": {},
          "execution_count": 31
        }
      ]
    },
    {
      "cell_type": "markdown",
      "metadata": {
        "id": "BIw9GzGpm30Z"
      },
      "source": [
        "Now, let's split the data into x and y, and preprocess the X values by scaling them"
      ]
    },
    {
      "cell_type": "code",
      "metadata": {
        "id": "N9Ra5rZ7mIP3"
      },
      "source": [
        "y_df = features_label_df[\"label_class_2_num_of_lows_2_profit_r\"]\n",
        "x_df = features_label_df.drop(\"label_class_2_num_of_lows_2_profit_r\", axis=1)\n",
        "x_df = x_df.astype(float)"
      ],
      "execution_count": 32,
      "outputs": []
    },
    {
      "cell_type": "code",
      "metadata": {
        "colab": {
          "base_uri": "https://localhost:8080/",
          "height": 203
        },
        "id": "_-fm7rlqm2sg",
        "outputId": "1f326d19-b701-4345-ef6e-550cbf87b6be"
      },
      "source": [
        "x = x_df.values\n",
        "standard_scaler = preprocessing.StandardScaler()\n",
        "x_scaled = standard_scaler.fit_transform(x)\n",
        "x_df = pd.DataFrame(x_scaled, columns=x_df.columns)\n",
        "x_df.tail()"
      ],
      "execution_count": 33,
      "outputs": [
        {
          "output_type": "execute_result",
          "data": {
            "text/html": [
              "<div>\n",
              "<style scoped>\n",
              "    .dataframe tbody tr th:only-of-type {\n",
              "        vertical-align: middle;\n",
              "    }\n",
              "\n",
              "    .dataframe tbody tr th {\n",
              "        vertical-align: top;\n",
              "    }\n",
              "\n",
              "    .dataframe thead th {\n",
              "        text-align: right;\n",
              "    }\n",
              "</style>\n",
              "<table border=\"1\" class=\"dataframe\">\n",
              "  <thead>\n",
              "    <tr style=\"text-align: right;\">\n",
              "      <th></th>\n",
              "      <th>pole_length_1</th>\n",
              "      <th>pole_flag_length_ratio_1</th>\n",
              "      <th>flag_low_progress</th>\n",
              "      <th>pivot_to_flag_height_ratio</th>\n",
              "      <th>pole_height_in_candles</th>\n",
              "      <th>pole_flag_height_ratio</th>\n",
              "    </tr>\n",
              "  </thead>\n",
              "  <tbody>\n",
              "    <tr>\n",
              "      <th>384885</th>\n",
              "      <td>0.685073</td>\n",
              "      <td>-0.429240</td>\n",
              "      <td>0.512592</td>\n",
              "      <td>0.598619</td>\n",
              "      <td>-0.010116</td>\n",
              "      <td>-0.266971</td>\n",
              "    </tr>\n",
              "    <tr>\n",
              "      <th>384886</th>\n",
              "      <td>0.685073</td>\n",
              "      <td>1.059339</td>\n",
              "      <td>-1.324644</td>\n",
              "      <td>0.390387</td>\n",
              "      <td>-0.010116</td>\n",
              "      <td>-0.238930</td>\n",
              "    </tr>\n",
              "    <tr>\n",
              "      <th>384887</th>\n",
              "      <td>0.685073</td>\n",
              "      <td>-0.429240</td>\n",
              "      <td>0.512592</td>\n",
              "      <td>0.544657</td>\n",
              "      <td>-0.010116</td>\n",
              "      <td>-0.266971</td>\n",
              "    </tr>\n",
              "    <tr>\n",
              "      <th>384888</th>\n",
              "      <td>0.685073</td>\n",
              "      <td>1.059339</td>\n",
              "      <td>-1.324644</td>\n",
              "      <td>0.524239</td>\n",
              "      <td>-0.010116</td>\n",
              "      <td>-0.238930</td>\n",
              "    </tr>\n",
              "    <tr>\n",
              "      <th>384889</th>\n",
              "      <td>0.685073</td>\n",
              "      <td>1.059339</td>\n",
              "      <td>-1.324644</td>\n",
              "      <td>0.371266</td>\n",
              "      <td>-0.010116</td>\n",
              "      <td>-0.238930</td>\n",
              "    </tr>\n",
              "  </tbody>\n",
              "</table>\n",
              "</div>"
            ],
            "text/plain": [
              "        pole_length_1  ...  pole_flag_height_ratio\n",
              "384885       0.685073  ...               -0.266971\n",
              "384886       0.685073  ...               -0.238930\n",
              "384887       0.685073  ...               -0.266971\n",
              "384888       0.685073  ...               -0.238930\n",
              "384889       0.685073  ...               -0.238930\n",
              "\n",
              "[5 rows x 6 columns]"
            ]
          },
          "metadata": {},
          "execution_count": 33
        }
      ]
    },
    {
      "cell_type": "markdown",
      "metadata": {
        "id": "JWdeuzST0M4l"
      },
      "source": [
        "Lastly for this section, let's split up between training and testing data"
      ]
    },
    {
      "cell_type": "code",
      "metadata": {
        "id": "4ouHM_Ql0L-z"
      },
      "source": [
        "all_y_df = y_df.reset_index(drop=True)\n",
        "everything = x_df.reset_index(drop=True)\n",
        "everything[\"label\"] = all_y_df"
      ],
      "execution_count": 34,
      "outputs": []
    },
    {
      "cell_type": "code",
      "metadata": {
        "colab": {
          "base_uri": "https://localhost:8080/"
        },
        "id": "8fjfRQrYBMCS",
        "outputId": "f25873b8-8737-4a96-e3ec-b2a9373ee12e"
      },
      "source": [
        "# leaving out only 10% of the dataset because it's pretty big, and I don't need so much of it to be tested\n",
        "all_train, all_test = train_test_split(everything, test_size=0.1, random_state=42, shuffle=True)\n",
        "\n",
        "print(\"Sanity check before training check\")\n",
        "print(all_train.shape)\n",
        "print(all_test.shape)\n",
        "print(all_train.sample(10))"
      ],
      "execution_count": 35,
      "outputs": [
        {
          "output_type": "stream",
          "name": "stdout",
          "text": [
            "Sanity check before training check\n",
            "(346401, 7)\n",
            "(38489, 7)\n",
            "        pole_length_1  pole_flag_length_ratio_1  ...  pole_flag_height_ratio  label\n",
            "379490      -0.634836                 -0.857258  ...               -0.409541   True\n",
            "94322       -0.994812                 -0.787984  ...               -0.274710   True\n",
            "11171       -0.754828                 -0.932306  ...               -0.318409   True\n",
            "345109       0.325098                 -0.095238  ...                0.101849   True\n",
            "307880      -0.274861                  0.135678  ...                5.310337  False\n",
            "45647        0.445090                 -0.366312  ...               -0.037522  False\n",
            "181251      -0.874820                 -0.355017  ...               -0.458654   True\n",
            "72880        0.805065                  0.164542  ...               -0.113792  False\n",
            "111681      -0.994812                 -0.392129  ...               -0.228720  False\n",
            "221518       0.445090                  0.471555  ...                0.138745   True\n",
            "\n",
            "[10 rows x 7 columns]\n"
          ]
        }
      ]
    },
    {
      "cell_type": "markdown",
      "metadata": {
        "id": "NhHtYGedzlFF"
      },
      "source": [
        "# Training classifiers\n",
        "\n",
        "I will be training on 5 classifiers: decision tree, random forest, SGD, Linear SVC, and k-nearest neighbors"
      ]
    },
    {
      "cell_type": "code",
      "metadata": {
        "id": "vJ_Y4fkyMKSm"
      },
      "source": [
        "# all dependencies for training\n",
        "from sklearn.tree import DecisionTreeClassifier\n",
        "from sklearn.ensemble import RandomForestClassifier\n",
        "from sklearn.linear_model import SGDClassifier\n",
        "from sklearn.svm import LinearSVC\n",
        "from sklearn.neighbors import KNeighborsClassifier\n",
        "\n",
        "\n",
        "from sklearn.metrics import accuracy_score, confusion_matrix, ConfusionMatrixDisplay, precision_score\n"
      ],
      "execution_count": 54,
      "outputs": []
    },
    {
      "cell_type": "code",
      "metadata": {
        "id": "UWb5Gtk-e40B"
      },
      "source": [
        "'''\n",
        "params:\n",
        "  classifier -> sklearn classifier object\n",
        "  x_array -> training data as numpy 2d array \n",
        "  y_array -> training data as labeling\n",
        "purpose:\n",
        "  trains the classifier and returns it\n",
        "'''\n",
        "def train_classifier(classifier, x_array, y_array):\n",
        "  return classifier.fit(x_array, y_array)"
      ],
      "execution_count": 37,
      "outputs": []
    },
    {
      "cell_type": "code",
      "metadata": {
        "id": "mBsfjwawfZtD"
      },
      "source": [
        "'''\n",
        "params:\n",
        "  y_pred -> predictions calculated by the classifier \n",
        "  y_test -> actual labels\n",
        "purpose:\n",
        "  displays the confusion matrix\n",
        "'''\n",
        "def show_confusion_matrix(y_pred, y_test):\n",
        "  cm = confusion_matrix(y_pred, y_test)\n",
        "\n",
        "  labels = [\"Fakeout\", \"Breakout\"]\n",
        "\n",
        "  disp = ConfusionMatrixDisplay(confusion_matrix=cm, display_labels=labels)\n",
        "\n",
        "  disp.plot(cmap=plt.cm.Blues)\n",
        "  plt.show()"
      ],
      "execution_count": 38,
      "outputs": []
    },
    {
      "cell_type": "code",
      "metadata": {
        "id": "2uuGsmyhgZv7"
      },
      "source": [
        "'''\n",
        "params:\n",
        "  y_pred -> predictions calculated by the classifier \n",
        "  y_test -> actual labels\n",
        "purpose:\n",
        "  displays the accuracy\n",
        "'''\n",
        "def show_accuracy(y_pred, y_test):\n",
        "  print(\"Accuracy:\", accuracy_score(y_test, y_pred))"
      ],
      "execution_count": 39,
      "outputs": []
    },
    {
      "cell_type": "code",
      "metadata": {
        "id": "7_bWX_QnoFNv"
      },
      "source": [
        "X_train = all_train.drop(\"label\", axis=1)\n",
        "y_train = all_train[\"label\"]\n",
        "\n",
        "X_test = all_test.drop(\"label\", axis=1)\n",
        "y_test = all_test[\"label\"]"
      ],
      "execution_count": 40,
      "outputs": []
    },
    {
      "cell_type": "markdown",
      "metadata": {
        "id": "AO8qNtBJguqy"
      },
      "source": [
        "## Training Decision Tree classifier"
      ]
    },
    {
      "cell_type": "code",
      "metadata": {
        "colab": {
          "base_uri": "https://localhost:8080/",
          "height": 313
        },
        "id": "iI0-Qj4AgnfG",
        "outputId": "72c54d92-7b2a-4134-f860-43ac7f43fee0"
      },
      "source": [
        "# creating, training, predicting using decision tree\n",
        "tree_clf = DecisionTreeClassifier()\n",
        "tree_clf = train_classifier(tree_clf, X_train.values, y_train.values)\n",
        "tree_y_pred = tree_clf.predict(X_test.values)\n",
        "\n",
        "# showing metrics\n",
        "show_confusion_matrix(y_test.values, tree_y_pred)\n",
        "show_accuracy(y_test.values, tree_y_pred)\n",
        "print(\"Precision score\", precision_score(y_test.values, tree_y_pred))"
      ],
      "execution_count": 58,
      "outputs": [
        {
          "output_type": "display_data",
          "data": {
            "image/png": "[encoded data removed]",
            "text/plain": [
              "<Figure size 432x288 with 2 Axes>"
            ]
          },
          "metadata": {
            "needs_background": "light"
          }
        },
        {
          "output_type": "stream",
          "name": "stdout",
          "text": [
            "Accuracy: 0.7362623087115799\n",
            "Precision score 0.6309942342849107\n"
          ]
        }
      ]
    },
    {
      "cell_type": "markdown",
      "metadata": {
        "id": "VTFGySFSh9Xl"
      },
      "source": [
        "## Training Random Forest classifier"
      ]
    },
    {
      "cell_type": "code",
      "metadata": {
        "colab": {
          "base_uri": "https://localhost:8080/",
          "height": 313
        },
        "id": "8DR0DnM9KwJo",
        "outputId": "e0efbc55-9419-4a76-e138-cb4bf8524926"
      },
      "source": [
        "# creating, training, predicting using forest\n",
        "forest_clf = RandomForestClassifier()\n",
        "forest_clf = train_classifier(forest_clf, X_train.values, y_train.values)\n",
        "forest_y_pred = forest_clf.predict(X_test.values)\n",
        "\n",
        "# showing metrics\n",
        "show_confusion_matrix(y_test.values, forest_y_pred)\n",
        "show_accuracy(y_test.values, forest_y_pred)\n",
        "print(\"Precision score\", precision_score(y_test.values, forest_y_pred))"
      ],
      "execution_count": 59,
      "outputs": [
        {
          "output_type": "display_data",
          "data": {
            "image/png": "[encoded data removed]",
            "text/plain": [
              "<Figure size 432x288 with 2 Axes>"
            ]
          },
          "metadata": {
            "needs_background": "light"
          }
        },
        {
          "output_type": "stream",
          "name": "stdout",
          "text": [
            "Accuracy: 0.8014757463171296\n",
            "Precision score 0.8595479704797048\n"
          ]
        }
      ]
    },
    {
      "cell_type": "markdown",
      "metadata": {
        "id": "mQPqTCxtN9xv"
      },
      "source": [
        "## Training KNeighborsClassifier classifier"
      ]
    },
    {
      "cell_type": "code",
      "metadata": {
        "colab": {
          "base_uri": "https://localhost:8080/",
          "height": 313
        },
        "id": "iXWil8hBOFti",
        "outputId": "6a5ba299-d2fe-4e08-eacf-7974f436c131"
      },
      "source": [
        "# creating, training, predicting using KNeighborsClassifier\n",
        "knn_clf = KNeighborsClassifier()\n",
        "# knn_clf = train_classifier(knn_clf, X_train.values, y_train.values)\n",
        "knn_clf = train_classifier(knn_clf, shuffled_wrong_df, y_train.values)\n",
        "\n",
        "knn_y_pred = knn_clf.predict(X_test.values)\n",
        "\n",
        "\n",
        "# showing metrics\n",
        "show_confusion_matrix(y_test.values, knn_y_pred)\n",
        "show_accuracy(y_test.values, knn_y_pred)\n",
        "print(\"Precision score\", precision_score(y_test.values, knn_y_pred))"
      ],
      "execution_count": 60,
      "outputs": [
        {
          "output_type": "display_data",
          "data": {
            "image/png": "[encoded data removed]",
            "text/plain": [
              "<Figure size 432x288 with 2 Axes>"
            ]
          },
          "metadata": {
            "needs_background": "light"
          }
        },
        {
          "output_type": "stream",
          "name": "stdout",
          "text": [
            "Accuracy: 0.5692795344124295\n",
            "Precision score 0.36406643180674386\n"
          ]
        }
      ]
    },
    {
      "cell_type": "markdown",
      "metadata": {
        "id": "3DmvXU0BKsok"
      },
      "source": [
        "## Training Linear SVM classifier"
      ]
    },
    {
      "cell_type": "code",
      "metadata": {
        "colab": {
          "base_uri": "https://localhost:8080/",
          "height": 400
        },
        "id": "mc4Vc1HkiFS3",
        "outputId": "410d2763-e3e7-4658-d7e5-4906753ec1d0"
      },
      "source": [
        "# creating, training, predicting Linear SVM forest\n",
        "l_svc_clf = LinearSVC()\n",
        "l_svc_clf = train_classifier(l_svc_clf, X_train.values, y_train.values)\n",
        "l_svc_y_pred = l_svc_clf.predict(X_test.values) \n",
        "\n",
        "# show metrics\n",
        "show_confusion_matrix(y_test.values, l_svc_y_pred)\n",
        "show_accuracy(y_test.values, l_svc_y_pred)\n",
        "print(\"Precision score\", precision_score(y_test.values, l_svc_y_pred))"
      ],
      "execution_count": 49,
      "outputs": [
        {
          "output_type": "stream",
          "name": "stderr",
          "text": [
            "/usr/local/lib/python3.7/dist-packages/sklearn/svm/_base.py:947: ConvergenceWarning: Liblinear failed to converge, increase the number of iterations.\n",
            "  \"the number of iterations.\", ConvergenceWarning)\n"
          ]
        },
        {
          "output_type": "display_data",
          "data": {
            "image/png": "[encoded data removed]",
            "text/plain": [
              "<Figure size 432x288 with 2 Axes>"
            ]
          },
          "metadata": {
            "needs_background": "light"
          }
        },
        {
          "output_type": "stream",
          "name": "stdout",
          "text": [
            "Accuracy: 0.6394554288238198\n",
            "Precision score 0.0\n"
          ]
        },
        {
          "output_type": "stream",
          "name": "stderr",
          "text": [
            "/usr/local/lib/python3.7/dist-packages/sklearn/metrics/_classification.py:1272: UndefinedMetricWarning: Precision is ill-defined and being set to 0.0 due to no predicted samples. Use `zero_division` parameter to control this behavior.\n",
            "  _warn_prf(average, modifier, msg_start, len(result))\n"
          ]
        }
      ]
    },
    {
      "cell_type": "markdown",
      "metadata": {
        "id": "j_Idmxk0jKnn"
      },
      "source": [
        "## Training SGD "
      ]
    },
    {
      "cell_type": "code",
      "metadata": {
        "id": "bikQ6haHjKG6",
        "colab": {
          "base_uri": "https://localhost:8080/",
          "height": 313
        },
        "outputId": "0b185850-b85f-4e6f-da1a-56d24da70e5a"
      },
      "source": [
        "# creating, training, predicting using SGD\n",
        "sgd_clf = SGDClassifier()\n",
        "sgd_clf = train_classifier(sgd_clf, X_train.values, y_train.values)\n",
        "sgd_y_pred = sgd_clf.predict(X_test.values)\n",
        "\n",
        "# show metrics\n",
        "\n",
        "show_confusion_matrix(y_test.values, sgd_y_pred)\n",
        "show_accuracy(y_test.values, sgd_y_pred)\n",
        "print(\"Precision score\", precision_score(y_test.values, sgd_y_pred))"
      ],
      "execution_count": 45,
      "outputs": [
        {
          "output_type": "display_data",
          "data": {
            "image/png": "[encoded data removed]",
            "text/plain": [
              "<Figure size 432x288 with 2 Axes>"
            ]
          },
          "metadata": {
            "needs_background": "light"
          }
        },
        {
          "output_type": "stream",
          "name": "stdout",
          "text": [
            "Accuracy: 0.6394034659253293\n",
            "Precision score 0.3333333333333333\n"
          ]
        }
      ]
    },
    {
      "cell_type": "markdown",
      "metadata": {
        "id": "_KBxPOf1kOUQ"
      },
      "source": [
        "## Models' performance evaluation\n",
        "\n",
        "2 things to note:\n",
        "1. I included precision score, which looks like positives only. TP / (TP + FP) That is because I only care about whether a model makes a prediction if its's a breakout. \n",
        "\n",
        "2. I get very lopsided results which should be scrutinized further. Why are trees and forests so good, while sgd and linear svc are so bad? Is there a bug in the data? Is the bug in the code? Is this the nature of the dataset and this is simply these models' way to achieve the highest accuracy they can.\n",
        "\n",
        "Is this the type of thing that if it's too good to be true, then it probably is?\n",
        "Hard to say at this point. Needs to be investigated further.\n"
      ]
    },
    {
      "cell_type": "code",
      "metadata": {
        "colab": {
          "base_uri": "https://localhost:8080/"
        },
        "id": "9TMtkFB3lzM7",
        "outputId": "ca622e65-8143-442f-a0f3-326eb45b78fd"
      },
      "source": [
        "print(\"Expected value of Random Forest classifier\")\n",
        "p_right = 0.86\n",
        "r_right = 2\n",
        "\n",
        "p_wrong = 0.14\n",
        "r_wrong = 1\n",
        "\n",
        "round(p_right * r_right - p_wrong * r_wrong, 2)"
      ],
      "execution_count": 53,
      "outputs": [
        {
          "output_type": "stream",
          "name": "stdout",
          "text": [
            "Expected value of Random Forest classifier\n"
          ]
        },
        {
          "output_type": "execute_result",
          "data": {
            "text/plain": [
              "1.58"
            ]
          },
          "metadata": {},
          "execution_count": 53
        }
      ]
    },
    {
      "cell_type": "markdown",
      "metadata": {
        "id": "3VlQddcwUUVp"
      },
      "source": [
        "## Conclusion\n",
        "\n",
        "Assuming, it is not too good to be true...\n",
        "\n",
        "Having only baseline models perform this way is promising! With certain hyperparameter tuning, I am sure it's possible to bump up the accuracy by a few percent. Also I ahve not yet properly trained on a neural network, which has quite high variance and could be even better for a training set of this size than other classifiers tested.\n",
        "\n",
        "Also, considering that I only have 6 features being used in a set of about 400k entries, there's lots of potential here if I add just a couple/few more features that I did not have time to implement. At this point right now, each stock trendline is isolated by itself. I believe there will be another improvement in the model if I add some kind of perfomance relationship with a benchmark index like SPY (ex. how well did the stock perform during the pole formation or flag formation relative to how SPY performed?). Perhaps, I can also (or instead of SPY) add a sector index relationship to the stock's performance. Maybe it's also possible to deduce the stock's index performance relative to other indices.\n",
        "\n",
        "After bumping up the model number a bit more and fully inspecting the code/math a couple of times, the next part of this ongoing project would be bring this model into live trading environment. Perhaps, it could start as a live scan at first and gradually be translated into a live trading bot."
      ]
    }
  ]
}